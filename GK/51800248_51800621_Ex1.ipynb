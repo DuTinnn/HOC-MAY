{
  "cells": [
    {
      "cell_type": "markdown",
      "metadata": {
        "id": "W0sZy_Nl_yG6"
      },
      "source": [
        "# Mô tả dữ liệu, vẽ đồ thị dữ liệu"
      ]
    },
    {
      "cell_type": "code",
      "execution_count": 1,
      "metadata": {
        "id": "6HdpdSVZ_yG7"
      },
      "outputs": [],
      "source": [
        "import pandas as pd\n",
        "import numpy as np\n",
        "from matplotlib import pyplot as plt\n",
        "import sklearn\n",
        "from sklearn.preprocessing import MinMaxScaler\n",
        "from sklearn.preprocessing import LabelEncoder\n",
        "from sklearn.neighbors import KNeighborsClassifier"
      ]
    },
    {
      "cell_type": "code",
      "execution_count": 2,
      "metadata": {
        "id": "lRbjmMCx_yG8"
      },
      "outputs": [],
      "source": [
        "columns = ['wkc','wkr','wrc','wrr','bkc','bkr','moves']\n",
        "data = pd.read_csv('krkopt.data',names=columns,header=None)"
      ]
    },
    {
      "cell_type": "code",
      "execution_count": 3,
      "metadata": {
        "id": "UPd-5Swl_yG9",
        "outputId": "d6819111-8535-4b0a-e5eb-3ef6162f19bc",
        "colab": {
          "base_uri": "https://localhost:8080/"
        }
      },
      "outputs": [
        {
          "output_type": "execute_result",
          "data": {
            "text/plain": [
              "(28056, 7)"
            ]
          },
          "metadata": {},
          "execution_count": 3
        }
      ],
      "source": [
        "#Số cột, số dòng\n",
        "data.shape"
      ]
    },
    {
      "cell_type": "code",
      "execution_count": 4,
      "metadata": {
        "id": "_ADBd6r0_yG-",
        "outputId": "e1c7d48d-c6b9-498f-808f-66564c3f30d0",
        "colab": {
          "base_uri": "https://localhost:8080/",
          "height": 206
        }
      },
      "outputs": [
        {
          "output_type": "execute_result",
          "data": {
            "text/plain": [
              "  wkc  wkr wrc  wrr bkc  bkr moves\n",
              "0   a    1   b    3   c    2  draw\n",
              "1   a    1   c    1   c    2  draw\n",
              "2   a    1   c    1   d    1  draw\n",
              "3   a    1   c    1   d    2  draw\n",
              "4   a    1   c    2   c    1  draw"
            ],
            "text/html": [
              "\n",
              "  <div id=\"df-43270199-8ac8-439b-b908-f4159d571bf9\">\n",
              "    <div class=\"colab-df-container\">\n",
              "      <div>\n",
              "<style scoped>\n",
              "    .dataframe tbody tr th:only-of-type {\n",
              "        vertical-align: middle;\n",
              "    }\n",
              "\n",
              "    .dataframe tbody tr th {\n",
              "        vertical-align: top;\n",
              "    }\n",
              "\n",
              "    .dataframe thead th {\n",
              "        text-align: right;\n",
              "    }\n",
              "</style>\n",
              "<table border=\"1\" class=\"dataframe\">\n",
              "  <thead>\n",
              "    <tr style=\"text-align: right;\">\n",
              "      <th></th>\n",
              "      <th>wkc</th>\n",
              "      <th>wkr</th>\n",
              "      <th>wrc</th>\n",
              "      <th>wrr</th>\n",
              "      <th>bkc</th>\n",
              "      <th>bkr</th>\n",
              "      <th>moves</th>\n",
              "    </tr>\n",
              "  </thead>\n",
              "  <tbody>\n",
              "    <tr>\n",
              "      <th>0</th>\n",
              "      <td>a</td>\n",
              "      <td>1</td>\n",
              "      <td>b</td>\n",
              "      <td>3</td>\n",
              "      <td>c</td>\n",
              "      <td>2</td>\n",
              "      <td>draw</td>\n",
              "    </tr>\n",
              "    <tr>\n",
              "      <th>1</th>\n",
              "      <td>a</td>\n",
              "      <td>1</td>\n",
              "      <td>c</td>\n",
              "      <td>1</td>\n",
              "      <td>c</td>\n",
              "      <td>2</td>\n",
              "      <td>draw</td>\n",
              "    </tr>\n",
              "    <tr>\n",
              "      <th>2</th>\n",
              "      <td>a</td>\n",
              "      <td>1</td>\n",
              "      <td>c</td>\n",
              "      <td>1</td>\n",
              "      <td>d</td>\n",
              "      <td>1</td>\n",
              "      <td>draw</td>\n",
              "    </tr>\n",
              "    <tr>\n",
              "      <th>3</th>\n",
              "      <td>a</td>\n",
              "      <td>1</td>\n",
              "      <td>c</td>\n",
              "      <td>1</td>\n",
              "      <td>d</td>\n",
              "      <td>2</td>\n",
              "      <td>draw</td>\n",
              "    </tr>\n",
              "    <tr>\n",
              "      <th>4</th>\n",
              "      <td>a</td>\n",
              "      <td>1</td>\n",
              "      <td>c</td>\n",
              "      <td>2</td>\n",
              "      <td>c</td>\n",
              "      <td>1</td>\n",
              "      <td>draw</td>\n",
              "    </tr>\n",
              "  </tbody>\n",
              "</table>\n",
              "</div>\n",
              "      <button class=\"colab-df-convert\" onclick=\"convertToInteractive('df-43270199-8ac8-439b-b908-f4159d571bf9')\"\n",
              "              title=\"Convert this dataframe to an interactive table.\"\n",
              "              style=\"display:none;\">\n",
              "        \n",
              "  <svg xmlns=\"http://www.w3.org/2000/svg\" height=\"24px\"viewBox=\"0 0 24 24\"\n",
              "       width=\"24px\">\n",
              "    <path d=\"M0 0h24v24H0V0z\" fill=\"none\"/>\n",
              "    <path d=\"M18.56 5.44l.94 2.06.94-2.06 2.06-.94-2.06-.94-.94-2.06-.94 2.06-2.06.94zm-11 1L8.5 8.5l.94-2.06 2.06-.94-2.06-.94L8.5 2.5l-.94 2.06-2.06.94zm10 10l.94 2.06.94-2.06 2.06-.94-2.06-.94-.94-2.06-.94 2.06-2.06.94z\"/><path d=\"M17.41 7.96l-1.37-1.37c-.4-.4-.92-.59-1.43-.59-.52 0-1.04.2-1.43.59L10.3 9.45l-7.72 7.72c-.78.78-.78 2.05 0 2.83L4 21.41c.39.39.9.59 1.41.59.51 0 1.02-.2 1.41-.59l7.78-7.78 2.81-2.81c.8-.78.8-2.07 0-2.86zM5.41 20L4 18.59l7.72-7.72 1.47 1.35L5.41 20z\"/>\n",
              "  </svg>\n",
              "      </button>\n",
              "      \n",
              "  <style>\n",
              "    .colab-df-container {\n",
              "      display:flex;\n",
              "      flex-wrap:wrap;\n",
              "      gap: 12px;\n",
              "    }\n",
              "\n",
              "    .colab-df-convert {\n",
              "      background-color: #E8F0FE;\n",
              "      border: none;\n",
              "      border-radius: 50%;\n",
              "      cursor: pointer;\n",
              "      display: none;\n",
              "      fill: #1967D2;\n",
              "      height: 32px;\n",
              "      padding: 0 0 0 0;\n",
              "      width: 32px;\n",
              "    }\n",
              "\n",
              "    .colab-df-convert:hover {\n",
              "      background-color: #E2EBFA;\n",
              "      box-shadow: 0px 1px 2px rgba(60, 64, 67, 0.3), 0px 1px 3px 1px rgba(60, 64, 67, 0.15);\n",
              "      fill: #174EA6;\n",
              "    }\n",
              "\n",
              "    [theme=dark] .colab-df-convert {\n",
              "      background-color: #3B4455;\n",
              "      fill: #D2E3FC;\n",
              "    }\n",
              "\n",
              "    [theme=dark] .colab-df-convert:hover {\n",
              "      background-color: #434B5C;\n",
              "      box-shadow: 0px 1px 3px 1px rgba(0, 0, 0, 0.15);\n",
              "      filter: drop-shadow(0px 1px 2px rgba(0, 0, 0, 0.3));\n",
              "      fill: #FFFFFF;\n",
              "    }\n",
              "  </style>\n",
              "\n",
              "      <script>\n",
              "        const buttonEl =\n",
              "          document.querySelector('#df-43270199-8ac8-439b-b908-f4159d571bf9 button.colab-df-convert');\n",
              "        buttonEl.style.display =\n",
              "          google.colab.kernel.accessAllowed ? 'block' : 'none';\n",
              "\n",
              "        async function convertToInteractive(key) {\n",
              "          const element = document.querySelector('#df-43270199-8ac8-439b-b908-f4159d571bf9');\n",
              "          const dataTable =\n",
              "            await google.colab.kernel.invokeFunction('convertToInteractive',\n",
              "                                                     [key], {});\n",
              "          if (!dataTable) return;\n",
              "\n",
              "          const docLinkHtml = 'Like what you see? Visit the ' +\n",
              "            '<a target=\"_blank\" href=https://colab.research.google.com/notebooks/data_table.ipynb>data table notebook</a>'\n",
              "            + ' to learn more about interactive tables.';\n",
              "          element.innerHTML = '';\n",
              "          dataTable['output_type'] = 'display_data';\n",
              "          await google.colab.output.renderOutput(dataTable, element);\n",
              "          const docLink = document.createElement('div');\n",
              "          docLink.innerHTML = docLinkHtml;\n",
              "          element.appendChild(docLink);\n",
              "        }\n",
              "      </script>\n",
              "    </div>\n",
              "  </div>\n",
              "  "
            ]
          },
          "metadata": {},
          "execution_count": 4
        }
      ],
      "source": [
        "data.head()"
      ]
    },
    {
      "cell_type": "code",
      "execution_count": 5,
      "metadata": {
        "id": "Sim6JQTj_yG_",
        "outputId": "a7067d73-234f-42e9-81c0-636f98fed6d8",
        "colab": {
          "base_uri": "https://localhost:8080/"
        }
      },
      "outputs": [
        {
          "output_type": "stream",
          "name": "stdout",
          "text": [
            "<class 'pandas.core.frame.DataFrame'>\n",
            "RangeIndex: 28056 entries, 0 to 28055\n",
            "Data columns (total 7 columns):\n",
            " #   Column  Non-Null Count  Dtype \n",
            "---  ------  --------------  ----- \n",
            " 0   wkc     28056 non-null  object\n",
            " 1   wkr     28056 non-null  int64 \n",
            " 2   wrc     28056 non-null  object\n",
            " 3   wrr     28056 non-null  int64 \n",
            " 4   bkc     28056 non-null  object\n",
            " 5   bkr     28056 non-null  int64 \n",
            " 6   moves   28056 non-null  object\n",
            "dtypes: int64(3), object(4)\n",
            "memory usage: 1.5+ MB\n"
          ]
        }
      ],
      "source": [
        "#Thông tin dữ liệu\n",
        "data.info()"
      ]
    },
    {
      "cell_type": "code",
      "execution_count": 6,
      "metadata": {
        "id": "gjVjx15K_yG_",
        "outputId": "4b3beb06-e476-4dcd-97fc-811864b37f84",
        "colab": {
          "base_uri": "https://localhost:8080/"
        }
      },
      "outputs": [
        {
          "output_type": "execute_result",
          "data": {
            "text/plain": [
              "wkc      0\n",
              "wkr      0\n",
              "wrc      0\n",
              "wrr      0\n",
              "bkc      0\n",
              "bkr      0\n",
              "moves    0\n",
              "dtype: int64"
            ]
          },
          "metadata": {},
          "execution_count": 6
        }
      ],
      "source": [
        "#Giá trị bị mất\n",
        "data.isna().sum()"
      ]
    },
    {
      "cell_type": "code",
      "execution_count": 7,
      "metadata": {
        "id": "tMZ9knZF_yHA",
        "outputId": "9497b219-27db-4b3d-f5cb-69b8725b12c0",
        "colab": {
          "base_uri": "https://localhost:8080/",
          "height": 143
        }
      },
      "outputs": [
        {
          "output_type": "execute_result",
          "data": {
            "text/plain": [
              "       count      mean       std  min  25%  50%  75%  max\n",
              "wkr  28056.0  1.854006  0.926414  1.0  1.0  2.0  2.0  4.0\n",
              "wrr  28056.0  4.512404  2.282723  1.0  3.0  5.0  6.0  8.0\n",
              "bkr  28056.0  4.451811  2.248387  1.0  3.0  4.0  6.0  8.0"
            ],
            "text/html": [
              "\n",
              "  <div id=\"df-859a0035-c512-4540-86bf-253954bbd20d\">\n",
              "    <div class=\"colab-df-container\">\n",
              "      <div>\n",
              "<style scoped>\n",
              "    .dataframe tbody tr th:only-of-type {\n",
              "        vertical-align: middle;\n",
              "    }\n",
              "\n",
              "    .dataframe tbody tr th {\n",
              "        vertical-align: top;\n",
              "    }\n",
              "\n",
              "    .dataframe thead th {\n",
              "        text-align: right;\n",
              "    }\n",
              "</style>\n",
              "<table border=\"1\" class=\"dataframe\">\n",
              "  <thead>\n",
              "    <tr style=\"text-align: right;\">\n",
              "      <th></th>\n",
              "      <th>count</th>\n",
              "      <th>mean</th>\n",
              "      <th>std</th>\n",
              "      <th>min</th>\n",
              "      <th>25%</th>\n",
              "      <th>50%</th>\n",
              "      <th>75%</th>\n",
              "      <th>max</th>\n",
              "    </tr>\n",
              "  </thead>\n",
              "  <tbody>\n",
              "    <tr>\n",
              "      <th>wkr</th>\n",
              "      <td>28056.0</td>\n",
              "      <td>1.854006</td>\n",
              "      <td>0.926414</td>\n",
              "      <td>1.0</td>\n",
              "      <td>1.0</td>\n",
              "      <td>2.0</td>\n",
              "      <td>2.0</td>\n",
              "      <td>4.0</td>\n",
              "    </tr>\n",
              "    <tr>\n",
              "      <th>wrr</th>\n",
              "      <td>28056.0</td>\n",
              "      <td>4.512404</td>\n",
              "      <td>2.282723</td>\n",
              "      <td>1.0</td>\n",
              "      <td>3.0</td>\n",
              "      <td>5.0</td>\n",
              "      <td>6.0</td>\n",
              "      <td>8.0</td>\n",
              "    </tr>\n",
              "    <tr>\n",
              "      <th>bkr</th>\n",
              "      <td>28056.0</td>\n",
              "      <td>4.451811</td>\n",
              "      <td>2.248387</td>\n",
              "      <td>1.0</td>\n",
              "      <td>3.0</td>\n",
              "      <td>4.0</td>\n",
              "      <td>6.0</td>\n",
              "      <td>8.0</td>\n",
              "    </tr>\n",
              "  </tbody>\n",
              "</table>\n",
              "</div>\n",
              "      <button class=\"colab-df-convert\" onclick=\"convertToInteractive('df-859a0035-c512-4540-86bf-253954bbd20d')\"\n",
              "              title=\"Convert this dataframe to an interactive table.\"\n",
              "              style=\"display:none;\">\n",
              "        \n",
              "  <svg xmlns=\"http://www.w3.org/2000/svg\" height=\"24px\"viewBox=\"0 0 24 24\"\n",
              "       width=\"24px\">\n",
              "    <path d=\"M0 0h24v24H0V0z\" fill=\"none\"/>\n",
              "    <path d=\"M18.56 5.44l.94 2.06.94-2.06 2.06-.94-2.06-.94-.94-2.06-.94 2.06-2.06.94zm-11 1L8.5 8.5l.94-2.06 2.06-.94-2.06-.94L8.5 2.5l-.94 2.06-2.06.94zm10 10l.94 2.06.94-2.06 2.06-.94-2.06-.94-.94-2.06-.94 2.06-2.06.94z\"/><path d=\"M17.41 7.96l-1.37-1.37c-.4-.4-.92-.59-1.43-.59-.52 0-1.04.2-1.43.59L10.3 9.45l-7.72 7.72c-.78.78-.78 2.05 0 2.83L4 21.41c.39.39.9.59 1.41.59.51 0 1.02-.2 1.41-.59l7.78-7.78 2.81-2.81c.8-.78.8-2.07 0-2.86zM5.41 20L4 18.59l7.72-7.72 1.47 1.35L5.41 20z\"/>\n",
              "  </svg>\n",
              "      </button>\n",
              "      \n",
              "  <style>\n",
              "    .colab-df-container {\n",
              "      display:flex;\n",
              "      flex-wrap:wrap;\n",
              "      gap: 12px;\n",
              "    }\n",
              "\n",
              "    .colab-df-convert {\n",
              "      background-color: #E8F0FE;\n",
              "      border: none;\n",
              "      border-radius: 50%;\n",
              "      cursor: pointer;\n",
              "      display: none;\n",
              "      fill: #1967D2;\n",
              "      height: 32px;\n",
              "      padding: 0 0 0 0;\n",
              "      width: 32px;\n",
              "    }\n",
              "\n",
              "    .colab-df-convert:hover {\n",
              "      background-color: #E2EBFA;\n",
              "      box-shadow: 0px 1px 2px rgba(60, 64, 67, 0.3), 0px 1px 3px 1px rgba(60, 64, 67, 0.15);\n",
              "      fill: #174EA6;\n",
              "    }\n",
              "\n",
              "    [theme=dark] .colab-df-convert {\n",
              "      background-color: #3B4455;\n",
              "      fill: #D2E3FC;\n",
              "    }\n",
              "\n",
              "    [theme=dark] .colab-df-convert:hover {\n",
              "      background-color: #434B5C;\n",
              "      box-shadow: 0px 1px 3px 1px rgba(0, 0, 0, 0.15);\n",
              "      filter: drop-shadow(0px 1px 2px rgba(0, 0, 0, 0.3));\n",
              "      fill: #FFFFFF;\n",
              "    }\n",
              "  </style>\n",
              "\n",
              "      <script>\n",
              "        const buttonEl =\n",
              "          document.querySelector('#df-859a0035-c512-4540-86bf-253954bbd20d button.colab-df-convert');\n",
              "        buttonEl.style.display =\n",
              "          google.colab.kernel.accessAllowed ? 'block' : 'none';\n",
              "\n",
              "        async function convertToInteractive(key) {\n",
              "          const element = document.querySelector('#df-859a0035-c512-4540-86bf-253954bbd20d');\n",
              "          const dataTable =\n",
              "            await google.colab.kernel.invokeFunction('convertToInteractive',\n",
              "                                                     [key], {});\n",
              "          if (!dataTable) return;\n",
              "\n",
              "          const docLinkHtml = 'Like what you see? Visit the ' +\n",
              "            '<a target=\"_blank\" href=https://colab.research.google.com/notebooks/data_table.ipynb>data table notebook</a>'\n",
              "            + ' to learn more about interactive tables.';\n",
              "          element.innerHTML = '';\n",
              "          dataTable['output_type'] = 'display_data';\n",
              "          await google.colab.output.renderOutput(dataTable, element);\n",
              "          const docLink = document.createElement('div');\n",
              "          docLink.innerHTML = docLinkHtml;\n",
              "          element.appendChild(docLink);\n",
              "        }\n",
              "      </script>\n",
              "    </div>\n",
              "  </div>\n",
              "  "
            ]
          },
          "metadata": {},
          "execution_count": 7
        }
      ],
      "source": [
        "#Phân tích thống kê\n",
        "data.describe().T"
      ]
    },
    {
      "cell_type": "code",
      "execution_count": 8,
      "metadata": {
        "id": "OMFrkgQI_yHB",
        "outputId": "5e46657d-75ed-482e-d16b-3a9bbe28143f",
        "colab": {
          "base_uri": "https://localhost:8080/",
          "height": 206
        }
      },
      "outputs": [
        {
          "output_type": "execute_result",
          "data": {
            "text/plain": [
              "   wkc  wkr  wrc  wrr  bkc  bkr  moves\n",
              "0    0    1    1    3    2    2      0\n",
              "1    0    1    2    1    2    2      0\n",
              "2    0    1    2    1    3    1      0\n",
              "3    0    1    2    1    3    2      0\n",
              "4    0    1    2    2    2    1      0"
            ],
            "text/html": [
              "\n",
              "  <div id=\"df-e5081643-a76c-44d4-89e1-472eb615978a\">\n",
              "    <div class=\"colab-df-container\">\n",
              "      <div>\n",
              "<style scoped>\n",
              "    .dataframe tbody tr th:only-of-type {\n",
              "        vertical-align: middle;\n",
              "    }\n",
              "\n",
              "    .dataframe tbody tr th {\n",
              "        vertical-align: top;\n",
              "    }\n",
              "\n",
              "    .dataframe thead th {\n",
              "        text-align: right;\n",
              "    }\n",
              "</style>\n",
              "<table border=\"1\" class=\"dataframe\">\n",
              "  <thead>\n",
              "    <tr style=\"text-align: right;\">\n",
              "      <th></th>\n",
              "      <th>wkc</th>\n",
              "      <th>wkr</th>\n",
              "      <th>wrc</th>\n",
              "      <th>wrr</th>\n",
              "      <th>bkc</th>\n",
              "      <th>bkr</th>\n",
              "      <th>moves</th>\n",
              "    </tr>\n",
              "  </thead>\n",
              "  <tbody>\n",
              "    <tr>\n",
              "      <th>0</th>\n",
              "      <td>0</td>\n",
              "      <td>1</td>\n",
              "      <td>1</td>\n",
              "      <td>3</td>\n",
              "      <td>2</td>\n",
              "      <td>2</td>\n",
              "      <td>0</td>\n",
              "    </tr>\n",
              "    <tr>\n",
              "      <th>1</th>\n",
              "      <td>0</td>\n",
              "      <td>1</td>\n",
              "      <td>2</td>\n",
              "      <td>1</td>\n",
              "      <td>2</td>\n",
              "      <td>2</td>\n",
              "      <td>0</td>\n",
              "    </tr>\n",
              "    <tr>\n",
              "      <th>2</th>\n",
              "      <td>0</td>\n",
              "      <td>1</td>\n",
              "      <td>2</td>\n",
              "      <td>1</td>\n",
              "      <td>3</td>\n",
              "      <td>1</td>\n",
              "      <td>0</td>\n",
              "    </tr>\n",
              "    <tr>\n",
              "      <th>3</th>\n",
              "      <td>0</td>\n",
              "      <td>1</td>\n",
              "      <td>2</td>\n",
              "      <td>1</td>\n",
              "      <td>3</td>\n",
              "      <td>2</td>\n",
              "      <td>0</td>\n",
              "    </tr>\n",
              "    <tr>\n",
              "      <th>4</th>\n",
              "      <td>0</td>\n",
              "      <td>1</td>\n",
              "      <td>2</td>\n",
              "      <td>2</td>\n",
              "      <td>2</td>\n",
              "      <td>1</td>\n",
              "      <td>0</td>\n",
              "    </tr>\n",
              "  </tbody>\n",
              "</table>\n",
              "</div>\n",
              "      <button class=\"colab-df-convert\" onclick=\"convertToInteractive('df-e5081643-a76c-44d4-89e1-472eb615978a')\"\n",
              "              title=\"Convert this dataframe to an interactive table.\"\n",
              "              style=\"display:none;\">\n",
              "        \n",
              "  <svg xmlns=\"http://www.w3.org/2000/svg\" height=\"24px\"viewBox=\"0 0 24 24\"\n",
              "       width=\"24px\">\n",
              "    <path d=\"M0 0h24v24H0V0z\" fill=\"none\"/>\n",
              "    <path d=\"M18.56 5.44l.94 2.06.94-2.06 2.06-.94-2.06-.94-.94-2.06-.94 2.06-2.06.94zm-11 1L8.5 8.5l.94-2.06 2.06-.94-2.06-.94L8.5 2.5l-.94 2.06-2.06.94zm10 10l.94 2.06.94-2.06 2.06-.94-2.06-.94-.94-2.06-.94 2.06-2.06.94z\"/><path d=\"M17.41 7.96l-1.37-1.37c-.4-.4-.92-.59-1.43-.59-.52 0-1.04.2-1.43.59L10.3 9.45l-7.72 7.72c-.78.78-.78 2.05 0 2.83L4 21.41c.39.39.9.59 1.41.59.51 0 1.02-.2 1.41-.59l7.78-7.78 2.81-2.81c.8-.78.8-2.07 0-2.86zM5.41 20L4 18.59l7.72-7.72 1.47 1.35L5.41 20z\"/>\n",
              "  </svg>\n",
              "      </button>\n",
              "      \n",
              "  <style>\n",
              "    .colab-df-container {\n",
              "      display:flex;\n",
              "      flex-wrap:wrap;\n",
              "      gap: 12px;\n",
              "    }\n",
              "\n",
              "    .colab-df-convert {\n",
              "      background-color: #E8F0FE;\n",
              "      border: none;\n",
              "      border-radius: 50%;\n",
              "      cursor: pointer;\n",
              "      display: none;\n",
              "      fill: #1967D2;\n",
              "      height: 32px;\n",
              "      padding: 0 0 0 0;\n",
              "      width: 32px;\n",
              "    }\n",
              "\n",
              "    .colab-df-convert:hover {\n",
              "      background-color: #E2EBFA;\n",
              "      box-shadow: 0px 1px 2px rgba(60, 64, 67, 0.3), 0px 1px 3px 1px rgba(60, 64, 67, 0.15);\n",
              "      fill: #174EA6;\n",
              "    }\n",
              "\n",
              "    [theme=dark] .colab-df-convert {\n",
              "      background-color: #3B4455;\n",
              "      fill: #D2E3FC;\n",
              "    }\n",
              "\n",
              "    [theme=dark] .colab-df-convert:hover {\n",
              "      background-color: #434B5C;\n",
              "      box-shadow: 0px 1px 3px 1px rgba(0, 0, 0, 0.15);\n",
              "      filter: drop-shadow(0px 1px 2px rgba(0, 0, 0, 0.3));\n",
              "      fill: #FFFFFF;\n",
              "    }\n",
              "  </style>\n",
              "\n",
              "      <script>\n",
              "        const buttonEl =\n",
              "          document.querySelector('#df-e5081643-a76c-44d4-89e1-472eb615978a button.colab-df-convert');\n",
              "        buttonEl.style.display =\n",
              "          google.colab.kernel.accessAllowed ? 'block' : 'none';\n",
              "\n",
              "        async function convertToInteractive(key) {\n",
              "          const element = document.querySelector('#df-e5081643-a76c-44d4-89e1-472eb615978a');\n",
              "          const dataTable =\n",
              "            await google.colab.kernel.invokeFunction('convertToInteractive',\n",
              "                                                     [key], {});\n",
              "          if (!dataTable) return;\n",
              "\n",
              "          const docLinkHtml = 'Like what you see? Visit the ' +\n",
              "            '<a target=\"_blank\" href=https://colab.research.google.com/notebooks/data_table.ipynb>data table notebook</a>'\n",
              "            + ' to learn more about interactive tables.';\n",
              "          element.innerHTML = '';\n",
              "          dataTable['output_type'] = 'display_data';\n",
              "          await google.colab.output.renderOutput(dataTable, element);\n",
              "          const docLink = document.createElement('div');\n",
              "          docLink.innerHTML = docLinkHtml;\n",
              "          element.appendChild(docLink);\n",
              "        }\n",
              "      </script>\n",
              "    </div>\n",
              "  </div>\n",
              "  "
            ]
          },
          "metadata": {},
          "execution_count": 8
        }
      ],
      "source": [
        "#chuẩn hóa về số\n",
        "encoder = LabelEncoder()\n",
        "\n",
        "columns = list(data.select_dtypes('object').columns)\n",
        "for col in columns:\n",
        "    data[col] = encoder.fit_transform(data[col])\n",
        "data.head()"
      ]
    },
    {
      "cell_type": "code",
      "execution_count": 9,
      "metadata": {
        "id": "dRWdkRn5_yHC",
        "outputId": "56925cb2-7ae8-46e6-95ad-cb6bdafbece1",
        "colab": {
          "base_uri": "https://localhost:8080/",
          "height": 453
        }
      },
      "outputs": [
        {
          "output_type": "display_data",
          "data": {
            "text/plain": [
              "<Figure size 1440x720 with 7 Axes>"
            ],
            "image/png": "[encoded data removed]"
          },
          "metadata": {
            "needs_background": "light"
          }
        }
      ],
      "source": [
        "#Sự phân phối của các thuộc tính\n",
        "\n",
        "i=1\n",
        "plt.figure(figsize=(20,10))\n",
        "\n",
        "for col in data.columns:\n",
        "    plt.subplot(3,4,i)\n",
        "    plt.hist(data[col],bins=50)\n",
        "    plt.tight_layout()\n",
        "    plt.title(col,fontsize=15)\n",
        "    i+=1"
      ]
    },
    {
      "cell_type": "code",
      "execution_count": 10,
      "metadata": {
        "id": "ad2YJVbC_yHC",
        "outputId": "3f09e858-57bd-4ccf-c999-2e6f282aa997",
        "colab": {
          "base_uri": "https://localhost:8080/",
          "height": 453
        }
      },
      "outputs": [
        {
          "output_type": "display_data",
          "data": {
            "text/plain": [
              "<Figure size 1440x720 with 6 Axes>"
            ],
            "image/png": "[encoded data removed]"
          },
          "metadata": {
            "needs_background": "light"
          }
        }
      ],
      "source": [
        "#Mối quan hệ giữa 6 thuộc tính đầu với thuộc tính cuối cùng\n",
        "\n",
        "i=1\n",
        "plt.figure(figsize=(20,10))\n",
        "\n",
        "for col in data.drop(columns='moves').columns:\n",
        "    plt.subplot(3,4,i)\n",
        "    plt.scatter(data['moves'],data[col])\n",
        "    plt.tight_layout()\n",
        "    plt.title(col,fontsize=15)\n",
        "    i+=1"
      ]
    },
    {
      "cell_type": "code",
      "execution_count": 11,
      "metadata": {
        "id": "JGME6AfU_yHD",
        "outputId": "3184ef63-90e6-4f2b-b34f-35e0ad029ee9",
        "colab": {
          "base_uri": "https://localhost:8080/",
          "height": 282
        }
      },
      "outputs": [
        {
          "output_type": "execute_result",
          "data": {
            "text/plain": [
              "<matplotlib.axes._subplots.AxesSubplot at 0x7f7f26392d50>"
            ]
          },
          "metadata": {},
          "execution_count": 11
        },
        {
          "output_type": "display_data",
          "data": {
            "text/plain": [
              "<Figure size 432x288 with 1 Axes>"
            ],
            "image/png": "[encoded data removed]"
          },
          "metadata": {
            "needs_background": "light"
          }
        }
      ],
      "source": [
        "#Tập dữ liệu mất cân bằng cao\n",
        "data['moves'].plot(kind='hist')"
      ]
    },
    {
      "cell_type": "markdown",
      "metadata": {
        "id": "rjraYi5D_yHD"
      },
      "source": [
        "# Xử lý dữ liệu trước khi đưa vào mô hình"
      ]
    },
    {
      "cell_type": "code",
      "execution_count": 12,
      "metadata": {
        "id": "FKJjrEmZ_yHE",
        "outputId": "b3ae6836-830c-4343-d983-02faa30e4451",
        "colab": {
          "base_uri": "https://localhost:8080/"
        }
      },
      "outputs": [
        {
          "output_type": "stream",
          "name": "stdout",
          "text": [
            "[[0.         0.         0.14285714 0.28571429 0.28571429 0.14285714]\n",
            " [0.         0.         0.28571429 0.         0.28571429 0.14285714]\n",
            " [0.         0.         0.28571429 0.         0.42857143 0.        ]\n",
            " [0.         0.         0.28571429 0.         0.42857143 0.14285714]\n",
            " [0.         0.         0.28571429 0.14285714 0.28571429 0.        ]]\n",
            "[0 0 0 0 0]\n",
            "Train:\n",
            "(19639, 6)\n",
            "(19639,)\n",
            "Test:\n",
            "(8417, 6)\n",
            "(8417,)\n"
          ]
        }
      ],
      "source": [
        "X = data.values[:, :-1]\n",
        "Y = data.values[:, -1]\n",
        "\n",
        "from sklearn.preprocessing import MinMaxScaler\n",
        "minmax = MinMaxScaler()\n",
        "X = minmax.fit_transform(X)\n",
        "print(X[:5])\n",
        "print(Y[:5])\n",
        "\n",
        "from sklearn.model_selection import train_test_split\n",
        "X_train, X_test, Y_train, Y_test = train_test_split(X, Y, test_size=0.3, random_state=42)\n",
        "\n",
        "print('Train:')\n",
        "print(X_train.shape)\n",
        "print(Y_train.shape)\n",
        "\n",
        "print('Test:')\n",
        "print(X_test.shape)\n",
        "print(Y_test.shape)"
      ]
    },
    {
      "cell_type": "markdown",
      "metadata": {
        "id": "j-JAF1_7_yHE"
      },
      "source": [
        "# Mô hình Naive Bayes"
      ]
    },
    {
      "cell_type": "code",
      "execution_count": 13,
      "metadata": {
        "id": "UBrWaaG2_yHF",
        "outputId": "552142bd-85d3-43b4-ca52-24d639056c5a",
        "colab": {
          "base_uri": "https://localhost:8080/"
        }
      },
      "outputs": [
        {
          "output_type": "stream",
          "name": "stdout",
          "text": [
            "[ 6  6 13 ... 13  6 15]\n",
            "[16  6 13 ... 13  0  1]\n"
          ]
        }
      ],
      "source": [
        "from sklearn.naive_bayes import CategoricalNB\n",
        "model = CategoricalNB()\n",
        "model.fit(X_train,Y_train)\n",
        "y_pred = model.predict(X_test)\n",
        "print(y_pred)\n",
        "print(Y_test)"
      ]
    },
    {
      "cell_type": "code",
      "execution_count": 14,
      "metadata": {
        "id": "wqh8fwz8_yHF",
        "outputId": "9b8db070-36cd-4831-911b-d17bd9648f90",
        "colab": {
          "base_uri": "https://localhost:8080/"
        }
      },
      "outputs": [
        {
          "output_type": "stream",
          "name": "stdout",
          "text": [
            "              precision    recall  f1-score   support\n",
            "\n",
            "           0       0.00      0.00      0.00       820\n",
            "           1       0.23      0.27      0.25       426\n",
            "           2       0.22      0.09      0.13       884\n",
            "           3       0.00      0.00      0.00       626\n",
            "           4       0.00      0.00      0.00       147\n",
            "           5       0.00      0.00      0.00        68\n",
            "           6       0.19      0.77      0.31      1397\n",
            "           7       0.38      0.02      0.04       522\n",
            "           8       0.00      0.00      0.00        29\n",
            "           9       0.00      0.00      0.00       192\n",
            "          10       0.00      0.00      0.00       180\n",
            "          11       0.00      0.00      0.00       118\n",
            "          12       0.14      0.00      0.00       577\n",
            "          13       0.20      0.21      0.20      1237\n",
            "          14       0.00      0.00      0.00        26\n",
            "          15       0.19      0.10      0.13      1082\n",
            "          16       0.00      0.00      0.00        77\n",
            "          17       0.00      0.00      0.00         9\n",
            "\n",
            "    accuracy                           0.20      8417\n",
            "   macro avg       0.09      0.08      0.06      8417\n",
            "weighted avg       0.15      0.20      0.13      8417\n",
            "\n"
          ]
        },
        {
          "output_type": "stream",
          "name": "stderr",
          "text": [
            "/usr/local/lib/python3.7/dist-packages/sklearn/metrics/_classification.py:1318: UndefinedMetricWarning: Precision and F-score are ill-defined and being set to 0.0 in labels with no predicted samples. Use `zero_division` parameter to control this behavior.\n",
            "  _warn_prf(average, modifier, msg_start, len(result))\n",
            "/usr/local/lib/python3.7/dist-packages/sklearn/metrics/_classification.py:1318: UndefinedMetricWarning: Precision and F-score are ill-defined and being set to 0.0 in labels with no predicted samples. Use `zero_division` parameter to control this behavior.\n",
            "  _warn_prf(average, modifier, msg_start, len(result))\n",
            "/usr/local/lib/python3.7/dist-packages/sklearn/metrics/_classification.py:1318: UndefinedMetricWarning: Precision and F-score are ill-defined and being set to 0.0 in labels with no predicted samples. Use `zero_division` parameter to control this behavior.\n",
            "  _warn_prf(average, modifier, msg_start, len(result))\n"
          ]
        }
      ],
      "source": [
        "from sklearn.metrics import classification_report\n",
        "print(classification_report(Y_test,y_pred))"
      ]
    },
    {
      "cell_type": "code",
      "execution_count": 15,
      "metadata": {
        "id": "e_zaNQAP_yHF",
        "outputId": "3443fca6-a1da-4ef5-ef32-cdc2bfd66f4b",
        "colab": {
          "base_uri": "https://localhost:8080/"
        }
      },
      "outputs": [
        {
          "output_type": "stream",
          "name": "stdout",
          "text": [
            "[13  6  6 ...  6  6 13]\n",
            "[16  6 13 ... 13  0  1]\n"
          ]
        }
      ],
      "source": [
        "#MultinomialNB\n",
        "from sklearn.naive_bayes import MultinomialNB\n",
        "model_NB = MultinomialNB()\n",
        "model_NB.fit(X_train,Y_train)\n",
        "y_pred = model_NB.predict(X_test)\n",
        "print(y_pred)\n",
        "print(Y_test)"
      ]
    },
    {
      "cell_type": "code",
      "execution_count": 16,
      "metadata": {
        "id": "DTdQjGQ8_yHG",
        "outputId": "828c7c28-aca2-492d-afb4-6b9bf0dade11",
        "colab": {
          "base_uri": "https://localhost:8080/"
        }
      },
      "outputs": [
        {
          "output_type": "stream",
          "name": "stdout",
          "text": [
            "              precision    recall  f1-score   support\n",
            "\n",
            "           0       0.00      0.00      0.00       820\n",
            "           1       0.00      0.00      0.00       426\n",
            "           2       0.00      0.00      0.00       884\n",
            "           3       0.00      0.00      0.00       626\n",
            "           4       0.00      0.00      0.00       147\n",
            "           5       0.00      0.00      0.00        68\n",
            "           6       0.28      0.78      0.42      1397\n",
            "           7       0.00      0.00      0.00       522\n",
            "           8       0.00      0.00      0.00        29\n",
            "           9       0.00      0.00      0.00       192\n",
            "          10       0.00      0.00      0.00       180\n",
            "          11       0.00      0.00      0.00       118\n",
            "          12       0.00      0.00      0.00       577\n",
            "          13       0.20      0.52      0.29      1237\n",
            "          14       0.00      0.00      0.00        26\n",
            "          15       0.11      0.13      0.12      1082\n",
            "          16       0.00      0.00      0.00        77\n",
            "          17       0.00      0.00      0.00         9\n",
            "\n",
            "    accuracy                           0.22      8417\n",
            "   macro avg       0.03      0.08      0.05      8417\n",
            "weighted avg       0.09      0.22      0.13      8417\n",
            "\n"
          ]
        },
        {
          "output_type": "stream",
          "name": "stderr",
          "text": [
            "/usr/local/lib/python3.7/dist-packages/sklearn/metrics/_classification.py:1318: UndefinedMetricWarning: Precision and F-score are ill-defined and being set to 0.0 in labels with no predicted samples. Use `zero_division` parameter to control this behavior.\n",
            "  _warn_prf(average, modifier, msg_start, len(result))\n",
            "/usr/local/lib/python3.7/dist-packages/sklearn/metrics/_classification.py:1318: UndefinedMetricWarning: Precision and F-score are ill-defined and being set to 0.0 in labels with no predicted samples. Use `zero_division` parameter to control this behavior.\n",
            "  _warn_prf(average, modifier, msg_start, len(result))\n",
            "/usr/local/lib/python3.7/dist-packages/sklearn/metrics/_classification.py:1318: UndefinedMetricWarning: Precision and F-score are ill-defined and being set to 0.0 in labels with no predicted samples. Use `zero_division` parameter to control this behavior.\n",
            "  _warn_prf(average, modifier, msg_start, len(result))\n"
          ]
        }
      ],
      "source": [
        "from sklearn.metrics import classification_report\n",
        "print(classification_report(Y_test,y_pred))"
      ]
    },
    {
      "cell_type": "code",
      "execution_count": 17,
      "metadata": {
        "id": "nvjpeNOY_yHG",
        "outputId": "b46c5134-8493-4372-c62d-b43236913d1f",
        "colab": {
          "base_uri": "https://localhost:8080/"
        }
      },
      "outputs": [
        {
          "output_type": "stream",
          "name": "stdout",
          "text": [
            "[ 8 11 11 ... 11  6 15]\n",
            "[16  6 13 ... 13  0  1]\n"
          ]
        }
      ],
      "source": [
        "#GaussianNB\n",
        "from sklearn.naive_bayes import GaussianNB\n",
        "model_NB = GaussianNB()\n",
        "model_NB.fit(X_train,Y_train)\n",
        "y_pred = model_NB.predict(X_test)\n",
        "print(y_pred)\n",
        "print(Y_test)"
      ]
    },
    {
      "cell_type": "code",
      "execution_count": 18,
      "metadata": {
        "id": "JwEspkVG_yHG",
        "outputId": "522e181b-5e72-4e2b-9abc-2e656c8b1639",
        "colab": {
          "base_uri": "https://localhost:8080/"
        }
      },
      "outputs": [
        {
          "output_type": "stream",
          "name": "stderr",
          "text": [
            "/usr/local/lib/python3.7/dist-packages/sklearn/metrics/_classification.py:1318: UndefinedMetricWarning: Precision and F-score are ill-defined and being set to 0.0 in labels with no predicted samples. Use `zero_division` parameter to control this behavior.\n",
            "  _warn_prf(average, modifier, msg_start, len(result))\n",
            "/usr/local/lib/python3.7/dist-packages/sklearn/metrics/_classification.py:1318: UndefinedMetricWarning: Precision and F-score are ill-defined and being set to 0.0 in labels with no predicted samples. Use `zero_division` parameter to control this behavior.\n",
            "  _warn_prf(average, modifier, msg_start, len(result))\n"
          ]
        },
        {
          "output_type": "stream",
          "name": "stdout",
          "text": [
            "              precision    recall  f1-score   support\n",
            "\n",
            "           0       0.10      0.03      0.04       820\n",
            "           1       0.24      0.47      0.32       426\n",
            "           2       0.29      0.17      0.21       884\n",
            "           3       0.00      0.00      0.00       626\n",
            "           4       0.07      0.08      0.08       147\n",
            "           5       0.18      0.85      0.30        68\n",
            "           6       0.37      0.40      0.38      1397\n",
            "           7       0.43      0.06      0.11       522\n",
            "           8       0.11      0.07      0.09        29\n",
            "           9       0.00      0.00      0.00       192\n",
            "          10       0.37      0.21      0.27       180\n",
            "          11       0.06      1.00      0.11       118\n",
            "          12       0.33      0.01      0.02       577\n",
            "          13       0.31      0.45      0.37      1237\n",
            "          14       0.10      0.08      0.09        26\n",
            "          15       0.36      0.24      0.29      1082\n",
            "          16       0.53      0.61      0.57        77\n",
            "          17       1.00      0.11      0.20         9\n",
            "\n",
            "    accuracy                           0.24      8417\n",
            "   macro avg       0.27      0.27      0.19      8417\n",
            "weighted avg       0.27      0.24      0.22      8417\n",
            "\n"
          ]
        },
        {
          "output_type": "stream",
          "name": "stderr",
          "text": [
            "/usr/local/lib/python3.7/dist-packages/sklearn/metrics/_classification.py:1318: UndefinedMetricWarning: Precision and F-score are ill-defined and being set to 0.0 in labels with no predicted samples. Use `zero_division` parameter to control this behavior.\n",
            "  _warn_prf(average, modifier, msg_start, len(result))\n"
          ]
        }
      ],
      "source": [
        "from sklearn.metrics import classification_report\n",
        "print(classification_report(Y_test,y_pred))"
      ]
    },
    {
      "cell_type": "code",
      "execution_count": 19,
      "metadata": {
        "id": "8J-wGlj3_yHH",
        "outputId": "c53bac7b-220e-4069-cbe0-c0635e850df1",
        "colab": {
          "base_uri": "https://localhost:8080/"
        }
      },
      "outputs": [
        {
          "output_type": "stream",
          "name": "stdout",
          "text": [
            "[ 4  6  6 ...  6  6 13]\n",
            "[16  6 13 ... 13  0  1]\n"
          ]
        }
      ],
      "source": [
        "#ComplementNB\n",
        "from sklearn.naive_bayes import ComplementNB\n",
        "model_NB = ComplementNB()\n",
        "model_NB.fit(X_train,Y_train)\n",
        "y_pred = model_NB.predict(X_test)\n",
        "print(y_pred)\n",
        "print(Y_test)"
      ]
    },
    {
      "cell_type": "code",
      "execution_count": 20,
      "metadata": {
        "id": "eFwaHP9T_yHH",
        "outputId": "d7c2a364-ea92-4c9f-9f41-0507bf2720b1",
        "colab": {
          "base_uri": "https://localhost:8080/"
        }
      },
      "outputs": [
        {
          "output_type": "stream",
          "name": "stderr",
          "text": [
            "/usr/local/lib/python3.7/dist-packages/sklearn/metrics/_classification.py:1318: UndefinedMetricWarning: Precision and F-score are ill-defined and being set to 0.0 in labels with no predicted samples. Use `zero_division` parameter to control this behavior.\n",
            "  _warn_prf(average, modifier, msg_start, len(result))\n"
          ]
        },
        {
          "output_type": "stream",
          "name": "stdout",
          "text": [
            "              precision    recall  f1-score   support\n",
            "\n",
            "           0       0.07      0.00      0.01       820\n",
            "           1       0.15      0.71      0.25       426\n",
            "           2       0.20      0.15      0.17       884\n",
            "           3       0.09      0.12      0.10       626\n",
            "           4       0.13      0.15      0.14       147\n",
            "           5       0.00      0.00      0.00        68\n",
            "           6       0.29      0.74      0.42      1397\n",
            "           7       0.10      0.11      0.11       522\n",
            "           8       0.00      0.00      0.00        29\n",
            "           9       0.00      0.00      0.00       192\n",
            "          10       0.00      0.00      0.00       180\n",
            "          11       0.00      0.00      0.00       118\n",
            "          12       0.15      0.02      0.04       577\n",
            "          13       0.39      0.14      0.21      1237\n",
            "          14       0.00      0.00      0.00        26\n",
            "          15       0.21      0.02      0.04      1082\n",
            "          16       0.00      0.00      0.00        77\n",
            "          17       0.00      0.00      0.00         9\n",
            "\n",
            "    accuracy                           0.22      8417\n",
            "   macro avg       0.10      0.12      0.08      8417\n",
            "weighted avg       0.20      0.22      0.16      8417\n",
            "\n"
          ]
        },
        {
          "output_type": "stream",
          "name": "stderr",
          "text": [
            "/usr/local/lib/python3.7/dist-packages/sklearn/metrics/_classification.py:1318: UndefinedMetricWarning: Precision and F-score are ill-defined and being set to 0.0 in labels with no predicted samples. Use `zero_division` parameter to control this behavior.\n",
            "  _warn_prf(average, modifier, msg_start, len(result))\n",
            "/usr/local/lib/python3.7/dist-packages/sklearn/metrics/_classification.py:1318: UndefinedMetricWarning: Precision and F-score are ill-defined and being set to 0.0 in labels with no predicted samples. Use `zero_division` parameter to control this behavior.\n",
            "  _warn_prf(average, modifier, msg_start, len(result))\n"
          ]
        }
      ],
      "source": [
        "from sklearn.metrics import classification_report\n",
        "print(classification_report(Y_test,y_pred))"
      ]
    },
    {
      "cell_type": "code",
      "execution_count": 21,
      "metadata": {
        "id": "gLoBFXiV_yHH",
        "outputId": "9bd35588-aab6-48cb-a97f-b61f1285d92d",
        "colab": {
          "base_uri": "https://localhost:8080/"
        }
      },
      "outputs": [
        {
          "output_type": "stream",
          "name": "stdout",
          "text": [
            "[2 6 6 ... 3 6 2]\n",
            "[16  6 13 ... 13  0  1]\n"
          ]
        }
      ],
      "source": [
        "#BernoulliNB\n",
        "from sklearn.naive_bayes import BernoulliNB\n",
        "model_NB = BernoulliNB()\n",
        "model_NB.fit(X_train,Y_train)\n",
        "y_pred = model_NB.predict(X_test)\n",
        "print(y_pred)\n",
        "print(Y_test)"
      ]
    },
    {
      "cell_type": "code",
      "execution_count": 22,
      "metadata": {
        "id": "UZb5YJ0A_yHI",
        "outputId": "1ce0d4b6-8138-423d-f285-f2e8beab3624",
        "colab": {
          "base_uri": "https://localhost:8080/"
        }
      },
      "outputs": [
        {
          "output_type": "stream",
          "name": "stderr",
          "text": [
            "/usr/local/lib/python3.7/dist-packages/sklearn/metrics/_classification.py:1318: UndefinedMetricWarning: Precision and F-score are ill-defined and being set to 0.0 in labels with no predicted samples. Use `zero_division` parameter to control this behavior.\n",
            "  _warn_prf(average, modifier, msg_start, len(result))\n"
          ]
        },
        {
          "output_type": "stream",
          "name": "stdout",
          "text": [
            "              precision    recall  f1-score   support\n",
            "\n",
            "           0       0.04      0.02      0.02       820\n",
            "           1       0.25      0.35      0.29       426\n",
            "           2       0.19      0.07      0.10       884\n",
            "           3       0.26      0.17      0.21       626\n",
            "           4       0.16      0.10      0.13       147\n",
            "           5       0.00      0.00      0.00        68\n",
            "           6       0.36      0.67      0.47      1397\n",
            "           7       0.17      0.03      0.05       522\n",
            "           8       0.00      0.00      0.00        29\n",
            "           9       0.00      0.00      0.00       192\n",
            "          10       0.00      0.00      0.00       180\n",
            "          11       0.00      0.00      0.00       118\n",
            "          12       0.00      0.00      0.00       577\n",
            "          13       0.19      0.54      0.28      1237\n",
            "          14       0.00      0.00      0.00        26\n",
            "          15       0.20      0.08      0.11      1082\n",
            "          16       0.43      0.08      0.13        77\n",
            "          17       0.00      0.00      0.00         9\n",
            "\n",
            "    accuracy                           0.24      8417\n",
            "   macro avg       0.12      0.12      0.10      8417\n",
            "weighted avg       0.19      0.24      0.18      8417\n",
            "\n"
          ]
        },
        {
          "output_type": "stream",
          "name": "stderr",
          "text": [
            "/usr/local/lib/python3.7/dist-packages/sklearn/metrics/_classification.py:1318: UndefinedMetricWarning: Precision and F-score are ill-defined and being set to 0.0 in labels with no predicted samples. Use `zero_division` parameter to control this behavior.\n",
            "  _warn_prf(average, modifier, msg_start, len(result))\n",
            "/usr/local/lib/python3.7/dist-packages/sklearn/metrics/_classification.py:1318: UndefinedMetricWarning: Precision and F-score are ill-defined and being set to 0.0 in labels with no predicted samples. Use `zero_division` parameter to control this behavior.\n",
            "  _warn_prf(average, modifier, msg_start, len(result))\n"
          ]
        }
      ],
      "source": [
        "from sklearn.metrics import classification_report\n",
        "print(classification_report(Y_test,y_pred))"
      ]
    },
    {
      "cell_type": "markdown",
      "metadata": {
        "id": "we5_rZ4H_yHI"
      },
      "source": [
        "# Mô hình K-Nearest Neighbors "
      ]
    },
    {
      "cell_type": "code",
      "execution_count": 23,
      "metadata": {
        "id": "xwZRTWi9_yHI",
        "outputId": "d79c9a46-252f-4514-f615-7acaa4aed757",
        "colab": {
          "base_uri": "https://localhost:8080/"
        }
      },
      "outputs": [
        {
          "output_type": "execute_result",
          "data": {
            "text/plain": [
              "KNeighborsClassifier(n_neighbors=3)"
            ]
          },
          "metadata": {},
          "execution_count": 23
        }
      ],
      "source": [
        "moves_pred = data[\"moves\"].values\n",
        "model = KNeighborsClassifier(n_neighbors=3)\n",
        "model.fit(X,moves_pred)"
      ]
    },
    {
      "cell_type": "code",
      "execution_count": 24,
      "metadata": {
        "id": "mtim-jxo_yHI",
        "outputId": "c79a38b8-0191-4a6a-b625-a47b5a9f2d57",
        "colab": {
          "base_uri": "https://localhost:8080/"
        }
      },
      "outputs": [
        {
          "output_type": "stream",
          "name": "stdout",
          "text": [
            "[16  6 13 ... 13  0  7]\n"
          ]
        }
      ],
      "source": [
        "Y_pred = model.predict(X_test)\n",
        "print(Y_pred)"
      ]
    },
    {
      "cell_type": "code",
      "execution_count": 25,
      "metadata": {
        "id": "ybCjPqel_yHI",
        "outputId": "afa25d6f-e9d9-4b30-fd8e-63d6bfbfeb99",
        "colab": {
          "base_uri": "https://localhost:8080/"
        }
      },
      "outputs": [
        {
          "output_type": "stream",
          "name": "stdout",
          "text": [
            "              precision    recall  f1-score   support\n",
            "\n",
            "           0       0.66      0.95      0.78       820\n",
            "           1       0.79      0.89      0.83       426\n",
            "           2       0.77      0.90      0.83       884\n",
            "           3       0.82      0.85      0.84       626\n",
            "           4       0.82      0.91      0.86       147\n",
            "           5       0.92      0.85      0.89        68\n",
            "           6       0.89      0.84      0.87      1397\n",
            "           7       0.88      0.85      0.87       522\n",
            "           8       0.78      0.86      0.82        29\n",
            "           9       0.83      0.79      0.81       192\n",
            "          10       0.92      0.83      0.87       180\n",
            "          11       0.97      0.75      0.84       118\n",
            "          12       0.92      0.76      0.84       577\n",
            "          13       0.91      0.79      0.85      1237\n",
            "          14       1.00      0.81      0.89        26\n",
            "          15       0.93      0.80      0.86      1082\n",
            "          16       0.97      0.84      0.90        77\n",
            "          17       1.00      0.89      0.94         9\n",
            "\n",
            "    accuracy                           0.84      8417\n",
            "   macro avg       0.88      0.84      0.85      8417\n",
            "weighted avg       0.86      0.84      0.84      8417\n",
            "\n"
          ]
        }
      ],
      "source": [
        "from sklearn.metrics import classification_report\n",
        "print(classification_report(Y_test,Y_pred))"
      ]
    },
    {
      "cell_type": "markdown",
      "metadata": {
        "id": "fFQr_uB4_yHJ"
      },
      "source": [
        "# Mô hình Support Vector Machines"
      ]
    },
    {
      "cell_type": "code",
      "execution_count": 26,
      "metadata": {
        "id": "jiKVVpt9_yHJ",
        "outputId": "577f2b37-447a-4bde-d13d-8dd98e467703",
        "colab": {
          "base_uri": "https://localhost:8080/"
        }
      },
      "outputs": [
        {
          "output_type": "execute_result",
          "data": {
            "text/plain": [
              "SVC(C=10, kernel='poly')"
            ]
          },
          "metadata": {},
          "execution_count": 26
        }
      ],
      "source": [
        "from sklearn import svm \n",
        "model = svm.SVC(kernel='poly', C=10)\n",
        "model.fit(X_train,Y_train)"
      ]
    },
    {
      "cell_type": "code",
      "execution_count": 27,
      "metadata": {
        "id": "vu5oLZzA_yHJ"
      },
      "outputs": [],
      "source": [
        "Y_pred = model.predict(X_test)"
      ]
    },
    {
      "cell_type": "code",
      "execution_count": 28,
      "metadata": {
        "id": "C00vXFFy_yHJ",
        "outputId": "c9ecdb91-0a19-4a3d-ad7b-204b271bef1f",
        "colab": {
          "base_uri": "https://localhost:8080/"
        }
      },
      "outputs": [
        {
          "output_type": "stream",
          "name": "stdout",
          "text": [
            "              precision    recall  f1-score   support\n",
            "\n",
            "           0       0.91      1.00      0.95       820\n",
            "           1       0.45      0.52      0.49       426\n",
            "           2       0.37      0.31      0.34       884\n",
            "           3       0.43      0.64      0.51       626\n",
            "           4       0.61      0.45      0.52       147\n",
            "           5       0.74      0.50      0.60        68\n",
            "           6       0.50      0.62      0.55      1397\n",
            "           7       0.42      0.36      0.38       522\n",
            "           8       0.68      0.52      0.59        29\n",
            "           9       0.49      0.20      0.29       192\n",
            "          10       0.67      0.50      0.57       180\n",
            "          11       0.59      0.16      0.25       118\n",
            "          12       0.39      0.18      0.25       577\n",
            "          13       0.43      0.48      0.45      1237\n",
            "          14       0.42      0.19      0.26        26\n",
            "          15       0.43      0.39      0.41      1082\n",
            "          16       0.83      0.87      0.85        77\n",
            "          17       1.00      0.56      0.71         9\n",
            "\n",
            "    accuracy                           0.50      8417\n",
            "   macro avg       0.57      0.47      0.50      8417\n",
            "weighted avg       0.50      0.50      0.49      8417\n",
            "\n"
          ]
        }
      ],
      "source": [
        "from sklearn.metrics import classification_report\n",
        "print(classification_report(Y_test,Y_pred))"
      ]
    },
    {
      "cell_type": "code",
      "execution_count": 29,
      "metadata": {
        "id": "G4N9I9Zp_yHJ",
        "outputId": "b1226741-19a4-41d7-c90a-f8109c2d1cb3",
        "colab": {
          "base_uri": "https://localhost:8080/"
        }
      },
      "outputs": [
        {
          "output_type": "stream",
          "name": "stdout",
          "text": [
            "              precision    recall  f1-score   support\n",
            "\n",
            "           0       0.32      0.04      0.07       820\n",
            "           1       0.31      0.63      0.41       426\n",
            "           2       0.27      0.02      0.03       884\n",
            "           3       0.20      0.31      0.25       626\n",
            "           4       0.31      0.49      0.38       147\n",
            "           5       0.00      0.00      0.00        68\n",
            "           6       0.35      0.66      0.45      1397\n",
            "           7       0.23      0.10      0.14       522\n",
            "           8       0.00      0.00      0.00        29\n",
            "           9       0.00      0.00      0.00       192\n",
            "          10       0.42      0.22      0.29       180\n",
            "          11       0.00      0.00      0.00       118\n",
            "          12       0.32      0.01      0.02       577\n",
            "          13       0.29      0.27      0.28      1237\n",
            "          14       0.00      0.00      0.00        26\n",
            "          15       0.25      0.44      0.32      1082\n",
            "          16       0.64      0.75      0.69        77\n",
            "          17       0.00      0.00      0.00         9\n",
            "\n",
            "    accuracy                           0.29      8417\n",
            "   macro avg       0.22      0.22      0.19      8417\n",
            "weighted avg       0.28      0.29      0.24      8417\n",
            "\n"
          ]
        },
        {
          "output_type": "stream",
          "name": "stderr",
          "text": [
            "/usr/local/lib/python3.7/dist-packages/sklearn/metrics/_classification.py:1318: UndefinedMetricWarning: Precision and F-score are ill-defined and being set to 0.0 in labels with no predicted samples. Use `zero_division` parameter to control this behavior.\n",
            "  _warn_prf(average, modifier, msg_start, len(result))\n",
            "/usr/local/lib/python3.7/dist-packages/sklearn/metrics/_classification.py:1318: UndefinedMetricWarning: Precision and F-score are ill-defined and being set to 0.0 in labels with no predicted samples. Use `zero_division` parameter to control this behavior.\n",
            "  _warn_prf(average, modifier, msg_start, len(result))\n",
            "/usr/local/lib/python3.7/dist-packages/sklearn/metrics/_classification.py:1318: UndefinedMetricWarning: Precision and F-score are ill-defined and being set to 0.0 in labels with no predicted samples. Use `zero_division` parameter to control this behavior.\n",
            "  _warn_prf(average, modifier, msg_start, len(result))\n"
          ]
        }
      ],
      "source": [
        "model = svm.SVC(kernel='linear', C=20)\n",
        "model.fit(X_train,Y_train)\n",
        "\n",
        "Y_pred = model.predict(X_test)\n",
        "\n",
        "from sklearn.metrics import classification_report\n",
        "print(classification_report(Y_test,Y_pred))"
      ]
    },
    {
      "cell_type": "code",
      "execution_count": 30,
      "metadata": {
        "id": "9vTaUuRp_yHK",
        "outputId": "7e6ba2f4-9a7c-4440-8f5f-d378e23b8f3f",
        "colab": {
          "base_uri": "https://localhost:8080/"
        }
      },
      "outputs": [
        {
          "output_type": "stream",
          "name": "stdout",
          "text": [
            "              precision    recall  f1-score   support\n",
            "\n",
            "           0       0.94      0.99      0.96       820\n",
            "           1       0.60      0.66      0.63       426\n",
            "           2       0.59      0.58      0.59       884\n",
            "           3       0.61      0.72      0.66       626\n",
            "           4       0.68      0.61      0.65       147\n",
            "           5       0.77      0.49      0.59        68\n",
            "           6       0.66      0.71      0.69      1397\n",
            "           7       0.61      0.61      0.61       522\n",
            "           8       0.75      0.62      0.68        29\n",
            "           9       0.53      0.48      0.51       192\n",
            "          10       0.67      0.58      0.62       180\n",
            "          11       0.71      0.51      0.59       118\n",
            "          12       0.60      0.47      0.53       577\n",
            "          13       0.58      0.58      0.58      1237\n",
            "          14       0.31      0.15      0.21        26\n",
            "          15       0.62      0.58      0.60      1082\n",
            "          16       0.87      0.90      0.88        77\n",
            "          17       0.83      0.56      0.67         9\n",
            "\n",
            "    accuracy                           0.65      8417\n",
            "   macro avg       0.66      0.60      0.62      8417\n",
            "weighted avg       0.65      0.65      0.65      8417\n",
            "\n"
          ]
        }
      ],
      "source": [
        "model = svm.SVC(kernel='rbf', C=30)\n",
        "model.fit(X_train,Y_train)\n",
        "\n",
        "Y_pred = model.predict(X_test)\n",
        "\n",
        "from sklearn.metrics import classification_report\n",
        "print(classification_report(Y_test,Y_pred))"
      ]
    },
    {
      "cell_type": "code",
      "execution_count": 31,
      "metadata": {
        "id": "FJCt3uc3_yHK",
        "outputId": "c31ae7c7-b14e-4e30-a366-00847e80534b",
        "colab": {
          "base_uri": "https://localhost:8080/"
        }
      },
      "outputs": [
        {
          "output_type": "stream",
          "name": "stdout",
          "text": [
            "              precision    recall  f1-score   support\n",
            "\n",
            "           0       0.11      0.43      0.17       820\n",
            "           1       0.00      0.00      0.00       426\n",
            "           2       0.07      0.17      0.10       884\n",
            "           3       0.09      0.13      0.11       626\n",
            "           4       1.00      0.01      0.01       147\n",
            "           5       0.00      0.00      0.00        68\n",
            "           6       0.27      0.17      0.21      1397\n",
            "           7       0.07      0.06      0.06       522\n",
            "           8       0.00      0.00      0.00        29\n",
            "           9       0.00      0.00      0.00       192\n",
            "          10       0.00      0.00      0.00       180\n",
            "          11       0.00      0.00      0.00       118\n",
            "          12       0.00      0.00      0.00       577\n",
            "          13       0.21      0.12      0.15      1237\n",
            "          14       0.00      0.00      0.00        26\n",
            "          15       0.07      0.00      0.01      1082\n",
            "          16       0.00      0.00      0.00        77\n",
            "          17       0.00      0.00      0.00         9\n",
            "\n",
            "    accuracy                           0.12      8417\n",
            "   macro avg       0.10      0.06      0.05      8417\n",
            "weighted avg       0.13      0.12      0.10      8417\n",
            "\n"
          ]
        },
        {
          "output_type": "stream",
          "name": "stderr",
          "text": [
            "/usr/local/lib/python3.7/dist-packages/sklearn/metrics/_classification.py:1318: UndefinedMetricWarning: Precision and F-score are ill-defined and being set to 0.0 in labels with no predicted samples. Use `zero_division` parameter to control this behavior.\n",
            "  _warn_prf(average, modifier, msg_start, len(result))\n",
            "/usr/local/lib/python3.7/dist-packages/sklearn/metrics/_classification.py:1318: UndefinedMetricWarning: Precision and F-score are ill-defined and being set to 0.0 in labels with no predicted samples. Use `zero_division` parameter to control this behavior.\n",
            "  _warn_prf(average, modifier, msg_start, len(result))\n",
            "/usr/local/lib/python3.7/dist-packages/sklearn/metrics/_classification.py:1318: UndefinedMetricWarning: Precision and F-score are ill-defined and being set to 0.0 in labels with no predicted samples. Use `zero_division` parameter to control this behavior.\n",
            "  _warn_prf(average, modifier, msg_start, len(result))\n"
          ]
        }
      ],
      "source": [
        "model = svm.SVC(kernel='sigmoid', C=40)\n",
        "model.fit(X_train,Y_train)\n",
        "\n",
        "Y_pred = model.predict(X_test)\n",
        "\n",
        "from sklearn.metrics import classification_report\n",
        "print(classification_report(Y_test,Y_pred))"
      ]
    },
    {
      "cell_type": "code",
      "execution_count": 32,
      "metadata": {
        "id": "exXj72j6_yHK",
        "outputId": "17e090db-470a-4780-e961-17dec3acd47b",
        "colab": {
          "base_uri": "https://localhost:8080/"
        }
      },
      "outputs": [
        {
          "output_type": "stream",
          "name": "stdout",
          "text": [
            "              precision    recall  f1-score   support\n",
            "\n",
            "           0       0.95      0.99      0.97       820\n",
            "           1       0.63      0.69      0.66       426\n",
            "           2       0.61      0.62      0.61       884\n",
            "           3       0.63      0.75      0.68       626\n",
            "           4       0.65      0.71      0.68       147\n",
            "           5       0.80      0.47      0.59        68\n",
            "           6       0.67      0.71      0.69      1397\n",
            "           7       0.62      0.62      0.62       522\n",
            "           8       0.73      0.66      0.69        29\n",
            "           9       0.57      0.52      0.54       192\n",
            "          10       0.67      0.57      0.61       180\n",
            "          11       0.72      0.51      0.60       118\n",
            "          12       0.61      0.50      0.55       577\n",
            "          13       0.59      0.59      0.59      1237\n",
            "          14       0.36      0.19      0.25        26\n",
            "          15       0.63      0.59      0.61      1082\n",
            "          16       0.89      0.87      0.88        77\n",
            "          17       0.83      0.56      0.67         9\n",
            "\n",
            "    accuracy                           0.66      8417\n",
            "   macro avg       0.68      0.62      0.64      8417\n",
            "weighted avg       0.66      0.66      0.66      8417\n",
            "\n"
          ]
        }
      ],
      "source": [
        "model = svm.SVC(kernel='rbf', C=50)\n",
        "model.fit(X_train,Y_train)\n",
        "\n",
        "Y_pred = model.predict(X_test)\n",
        "\n",
        "from sklearn.metrics import classification_report\n",
        "print(classification_report(Y_test,Y_pred))"
      ]
    },
    {
      "cell_type": "markdown",
      "metadata": {
        "id": "WjVaVPIg_yHK"
      },
      "source": [
        "# Mô hình Decision Tree"
      ]
    },
    {
      "cell_type": "code",
      "execution_count": 33,
      "metadata": {
        "id": "88pmu9cz_yHL"
      },
      "outputs": [],
      "source": [
        "from sklearn import tree\n",
        "from sklearn.tree import DecisionTreeClassifier"
      ]
    },
    {
      "cell_type": "code",
      "execution_count": 34,
      "metadata": {
        "id": "sTge4yyE_yHL"
      },
      "outputs": [],
      "source": [
        "dtree = DecisionTreeClassifier(criterion = 'gini')\n",
        "dtree = dtree.fit(X_train, Y_train)"
      ]
    },
    {
      "cell_type": "code",
      "execution_count": 35,
      "metadata": {
        "id": "pmgKdnRs_yHL",
        "outputId": "728bc2c4-f66c-4ed6-f5b7-d1a9eb4389af",
        "colab": {
          "base_uri": "https://localhost:8080/"
        }
      },
      "outputs": [
        {
          "output_type": "stream",
          "name": "stdout",
          "text": [
            "[16 15 13 ... 13  0  7]\n"
          ]
        }
      ],
      "source": [
        "pre_de = dtree.predict(X_test)\n",
        "print(pre_de)"
      ]
    },
    {
      "cell_type": "code",
      "execution_count": 36,
      "metadata": {
        "id": "NhdtWPIG_yHL",
        "outputId": "9f9b1147-dce4-4d1c-d0aa-b581d985c1b3",
        "colab": {
          "base_uri": "https://localhost:8080/"
        }
      },
      "outputs": [
        {
          "output_type": "stream",
          "name": "stdout",
          "text": [
            "              precision    recall  f1-score   support\n",
            "\n",
            "           0       0.81      0.77      0.79       820\n",
            "           1       0.83      0.84      0.84       426\n",
            "           2       0.81      0.80      0.80       884\n",
            "           3       0.84      0.85      0.85       626\n",
            "           4       0.92      0.88      0.90       147\n",
            "           5       0.93      0.76      0.84        68\n",
            "           6       0.87      0.87      0.87      1397\n",
            "           7       0.83      0.81      0.82       522\n",
            "           8       0.82      0.93      0.87        29\n",
            "           9       0.71      0.77      0.74       192\n",
            "          10       0.84      0.80      0.82       180\n",
            "          11       0.78      0.79      0.78       118\n",
            "          12       0.78      0.79      0.79       577\n",
            "          13       0.84      0.85      0.84      1237\n",
            "          14       0.68      0.88      0.77        26\n",
            "          15       0.82      0.83      0.83      1082\n",
            "          16       0.96      0.88      0.92        77\n",
            "          17       1.00      0.78      0.88         9\n",
            "\n",
            "    accuracy                           0.83      8417\n",
            "   macro avg       0.84      0.83      0.83      8417\n",
            "weighted avg       0.83      0.83      0.83      8417\n",
            "\n"
          ]
        }
      ],
      "source": [
        "from sklearn.metrics import classification_report\n",
        "print(classification_report(Y_test,pre_de))"
      ]
    }
  ],
  "metadata": {
    "kernelspec": {
      "display_name": "Python 3",
      "language": "python",
      "name": "python3"
    },
    "language_info": {
      "codemirror_mode": {
        "name": "ipython",
        "version": 3
      },
      "file_extension": ".py",
      "mimetype": "text/x-python",
      "name": "python",
      "nbconvert_exporter": "python",
      "pygments_lexer": "ipython3",
      "version": "3.8.5"
    },
    "colab": {
      "name": "51800248_51800621_Ex1.ipynb",
      "provenance": [],
      "collapsed_sections": []
    }
  },
  "nbformat": 4,
  "nbformat_minor": 0
}