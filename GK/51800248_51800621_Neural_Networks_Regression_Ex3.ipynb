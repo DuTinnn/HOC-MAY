{
  "nbformat": 4,
  "nbformat_minor": 0,
  "metadata": {
    "colab": {
      "name": "51800248_51800621_Neural_Networks_Regression_Ex3.ipynb",
      "provenance": [],
      "collapsed_sections": []
    },
    "kernelspec": {
      "name": "python3",
      "display_name": "Python 3"
    },
    "language_info": {
      "name": "python"
    }
  },
  "cells": [
    {
      "cell_type": "code",
      "metadata": {
        "id": "8KugCN97-mA6"
      },
      "source": [
        "from tensorflow.keras import layers\n",
        "from tensorflow.keras import models\n",
        "from sklearn.metrics import accuracy_score\n",
        "import numpy as np "
      ],
      "execution_count": 1,
      "outputs": []
    },
    {
      "cell_type": "markdown",
      "metadata": {
        "id": "PwpVNo4dAX_M"
      },
      "source": [
        "### **Import dataset**"
      ]
    },
    {
      "cell_type": "code",
      "metadata": {
        "id": "GMQgCYIt-qPR"
      },
      "source": [
        "import pandas as pd\n",
        "data = pd.read_csv('/content/auto-mpg.csv')"
      ],
      "execution_count": 2,
      "outputs": []
    },
    {
      "cell_type": "code",
      "metadata": {
        "colab": {
          "base_uri": "https://localhost:8080/"
        },
        "id": "noEsWNnjF8kq",
        "outputId": "431eede1-ae56-4f49-be64-1a3d06295cc6"
      },
      "source": [
        "#Số cột, số dòng\n",
        "data.shape"
      ],
      "execution_count": 3,
      "outputs": [
        {
          "output_type": "execute_result",
          "data": {
            "text/plain": [
              "(398, 9)"
            ]
          },
          "metadata": {},
          "execution_count": 3
        }
      ]
    },
    {
      "cell_type": "code",
      "metadata": {
        "colab": {
          "base_uri": "https://localhost:8080/",
          "height": 206
        },
        "id": "VqNKNS8AInMB",
        "outputId": "30e4dac3-1ae3-4d8c-c33f-aaad57c5dce2"
      },
      "source": [
        "data.head()"
      ],
      "execution_count": 4,
      "outputs": [
        {
          "output_type": "execute_result",
          "data": {
            "text/plain": [
              "    mpg  cylinders  displacement horsepower  weight  acceleration  model year  \\\n",
              "0  18.0          8         307.0        130    3504          12.0          70   \n",
              "1  15.0          8         350.0        165    3693          11.5          70   \n",
              "2  18.0          8         318.0        150    3436          11.0          70   \n",
              "3  16.0          8         304.0        150    3433          12.0          70   \n",
              "4  17.0          8         302.0        140    3449          10.5          70   \n",
              "\n",
              "   origin                   car name  \n",
              "0       1  chevrolet chevelle malibu  \n",
              "1       1          buick skylark 320  \n",
              "2       1         plymouth satellite  \n",
              "3       1              amc rebel sst  \n",
              "4       1                ford torino  "
            ],
            "text/html": [
              "\n",
              "  <div id=\"df-2461c749-3517-44cd-9d83-3026751cedf6\">\n",
              "    <div class=\"colab-df-container\">\n",
              "      <div>\n",
              "<style scoped>\n",
              "    .dataframe tbody tr th:only-of-type {\n",
              "        vertical-align: middle;\n",
              "    }\n",
              "\n",
              "    .dataframe tbody tr th {\n",
              "        vertical-align: top;\n",
              "    }\n",
              "\n",
              "    .dataframe thead th {\n",
              "        text-align: right;\n",
              "    }\n",
              "</style>\n",
              "<table border=\"1\" class=\"dataframe\">\n",
              "  <thead>\n",
              "    <tr style=\"text-align: right;\">\n",
              "      <th></th>\n",
              "      <th>mpg</th>\n",
              "      <th>cylinders</th>\n",
              "      <th>displacement</th>\n",
              "      <th>horsepower</th>\n",
              "      <th>weight</th>\n",
              "      <th>acceleration</th>\n",
              "      <th>model year</th>\n",
              "      <th>origin</th>\n",
              "      <th>car name</th>\n",
              "    </tr>\n",
              "  </thead>\n",
              "  <tbody>\n",
              "    <tr>\n",
              "      <th>0</th>\n",
              "      <td>18.0</td>\n",
              "      <td>8</td>\n",
              "      <td>307.0</td>\n",
              "      <td>130</td>\n",
              "      <td>3504</td>\n",
              "      <td>12.0</td>\n",
              "      <td>70</td>\n",
              "      <td>1</td>\n",
              "      <td>chevrolet chevelle malibu</td>\n",
              "    </tr>\n",
              "    <tr>\n",
              "      <th>1</th>\n",
              "      <td>15.0</td>\n",
              "      <td>8</td>\n",
              "      <td>350.0</td>\n",
              "      <td>165</td>\n",
              "      <td>3693</td>\n",
              "      <td>11.5</td>\n",
              "      <td>70</td>\n",
              "      <td>1</td>\n",
              "      <td>buick skylark 320</td>\n",
              "    </tr>\n",
              "    <tr>\n",
              "      <th>2</th>\n",
              "      <td>18.0</td>\n",
              "      <td>8</td>\n",
              "      <td>318.0</td>\n",
              "      <td>150</td>\n",
              "      <td>3436</td>\n",
              "      <td>11.0</td>\n",
              "      <td>70</td>\n",
              "      <td>1</td>\n",
              "      <td>plymouth satellite</td>\n",
              "    </tr>\n",
              "    <tr>\n",
              "      <th>3</th>\n",
              "      <td>16.0</td>\n",
              "      <td>8</td>\n",
              "      <td>304.0</td>\n",
              "      <td>150</td>\n",
              "      <td>3433</td>\n",
              "      <td>12.0</td>\n",
              "      <td>70</td>\n",
              "      <td>1</td>\n",
              "      <td>amc rebel sst</td>\n",
              "    </tr>\n",
              "    <tr>\n",
              "      <th>4</th>\n",
              "      <td>17.0</td>\n",
              "      <td>8</td>\n",
              "      <td>302.0</td>\n",
              "      <td>140</td>\n",
              "      <td>3449</td>\n",
              "      <td>10.5</td>\n",
              "      <td>70</td>\n",
              "      <td>1</td>\n",
              "      <td>ford torino</td>\n",
              "    </tr>\n",
              "  </tbody>\n",
              "</table>\n",
              "</div>\n",
              "      <button class=\"colab-df-convert\" onclick=\"convertToInteractive('df-2461c749-3517-44cd-9d83-3026751cedf6')\"\n",
              "              title=\"Convert this dataframe to an interactive table.\"\n",
              "              style=\"display:none;\">\n",
              "        \n",
              "  <svg xmlns=\"http://www.w3.org/2000/svg\" height=\"24px\"viewBox=\"0 0 24 24\"\n",
              "       width=\"24px\">\n",
              "    <path d=\"M0 0h24v24H0V0z\" fill=\"none\"/>\n",
              "    <path d=\"M18.56 5.44l.94 2.06.94-2.06 2.06-.94-2.06-.94-.94-2.06-.94 2.06-2.06.94zm-11 1L8.5 8.5l.94-2.06 2.06-.94-2.06-.94L8.5 2.5l-.94 2.06-2.06.94zm10 10l.94 2.06.94-2.06 2.06-.94-2.06-.94-.94-2.06-.94 2.06-2.06.94z\"/><path d=\"M17.41 7.96l-1.37-1.37c-.4-.4-.92-.59-1.43-.59-.52 0-1.04.2-1.43.59L10.3 9.45l-7.72 7.72c-.78.78-.78 2.05 0 2.83L4 21.41c.39.39.9.59 1.41.59.51 0 1.02-.2 1.41-.59l7.78-7.78 2.81-2.81c.8-.78.8-2.07 0-2.86zM5.41 20L4 18.59l7.72-7.72 1.47 1.35L5.41 20z\"/>\n",
              "  </svg>\n",
              "      </button>\n",
              "      \n",
              "  <style>\n",
              "    .colab-df-container {\n",
              "      display:flex;\n",
              "      flex-wrap:wrap;\n",
              "      gap: 12px;\n",
              "    }\n",
              "\n",
              "    .colab-df-convert {\n",
              "      background-color: #E8F0FE;\n",
              "      border: none;\n",
              "      border-radius: 50%;\n",
              "      cursor: pointer;\n",
              "      display: none;\n",
              "      fill: #1967D2;\n",
              "      height: 32px;\n",
              "      padding: 0 0 0 0;\n",
              "      width: 32px;\n",
              "    }\n",
              "\n",
              "    .colab-df-convert:hover {\n",
              "      background-color: #E2EBFA;\n",
              "      box-shadow: 0px 1px 2px rgba(60, 64, 67, 0.3), 0px 1px 3px 1px rgba(60, 64, 67, 0.15);\n",
              "      fill: #174EA6;\n",
              "    }\n",
              "\n",
              "    [theme=dark] .colab-df-convert {\n",
              "      background-color: #3B4455;\n",
              "      fill: #D2E3FC;\n",
              "    }\n",
              "\n",
              "    [theme=dark] .colab-df-convert:hover {\n",
              "      background-color: #434B5C;\n",
              "      box-shadow: 0px 1px 3px 1px rgba(0, 0, 0, 0.15);\n",
              "      filter: drop-shadow(0px 1px 2px rgba(0, 0, 0, 0.3));\n",
              "      fill: #FFFFFF;\n",
              "    }\n",
              "  </style>\n",
              "\n",
              "      <script>\n",
              "        const buttonEl =\n",
              "          document.querySelector('#df-2461c749-3517-44cd-9d83-3026751cedf6 button.colab-df-convert');\n",
              "        buttonEl.style.display =\n",
              "          google.colab.kernel.accessAllowed ? 'block' : 'none';\n",
              "\n",
              "        async function convertToInteractive(key) {\n",
              "          const element = document.querySelector('#df-2461c749-3517-44cd-9d83-3026751cedf6');\n",
              "          const dataTable =\n",
              "            await google.colab.kernel.invokeFunction('convertToInteractive',\n",
              "                                                     [key], {});\n",
              "          if (!dataTable) return;\n",
              "\n",
              "          const docLinkHtml = 'Like what you see? Visit the ' +\n",
              "            '<a target=\"_blank\" href=https://colab.research.google.com/notebooks/data_table.ipynb>data table notebook</a>'\n",
              "            + ' to learn more about interactive tables.';\n",
              "          element.innerHTML = '';\n",
              "          dataTable['output_type'] = 'display_data';\n",
              "          await google.colab.output.renderOutput(dataTable, element);\n",
              "          const docLink = document.createElement('div');\n",
              "          docLink.innerHTML = docLinkHtml;\n",
              "          element.appendChild(docLink);\n",
              "        }\n",
              "      </script>\n",
              "    </div>\n",
              "  </div>\n",
              "  "
            ]
          },
          "metadata": {},
          "execution_count": 4
        }
      ]
    },
    {
      "cell_type": "markdown",
      "metadata": {
        "id": "A8qXYXqJck0i"
      },
      "source": [
        "### **Xử lý dữ liệu**"
      ]
    },
    {
      "cell_type": "code",
      "source": [
        "del data['car name']"
      ],
      "metadata": {
        "id": "FFnng1VitYe8"
      },
      "execution_count": 5,
      "outputs": []
    },
    {
      "cell_type": "code",
      "metadata": {
        "colab": {
          "base_uri": "https://localhost:8080/",
          "height": 206
        },
        "id": "ztOxPZak_tk8",
        "outputId": "06777980-b240-4024-fb9a-7c0c02193d7e"
      },
      "source": [
        "#Chuẩn hóa dữ liệu về số\n",
        "from sklearn.preprocessing import LabelEncoder\n",
        "encoder = LabelEncoder()\n",
        "\n",
        "columns = list(data.select_dtypes('object').columns)\n",
        "for col in columns:\n",
        "    data[col] = encoder.fit_transform(data[col])\n",
        "data.head()"
      ],
      "execution_count": 6,
      "outputs": [
        {
          "output_type": "execute_result",
          "data": {
            "text/plain": [
              "    mpg  cylinders  displacement  horsepower  weight  acceleration  \\\n",
              "0  18.0          8         307.0          15    3504          12.0   \n",
              "1  15.0          8         350.0          33    3693          11.5   \n",
              "2  18.0          8         318.0          27    3436          11.0   \n",
              "3  16.0          8         304.0          27    3433          12.0   \n",
              "4  17.0          8         302.0          22    3449          10.5   \n",
              "\n",
              "   model year  origin  \n",
              "0          70       1  \n",
              "1          70       1  \n",
              "2          70       1  \n",
              "3          70       1  \n",
              "4          70       1  "
            ],
            "text/html": [
              "\n",
              "  <div id=\"df-b2ce6e98-f202-4b90-9cda-439dad466801\">\n",
              "    <div class=\"colab-df-container\">\n",
              "      <div>\n",
              "<style scoped>\n",
              "    .dataframe tbody tr th:only-of-type {\n",
              "        vertical-align: middle;\n",
              "    }\n",
              "\n",
              "    .dataframe tbody tr th {\n",
              "        vertical-align: top;\n",
              "    }\n",
              "\n",
              "    .dataframe thead th {\n",
              "        text-align: right;\n",
              "    }\n",
              "</style>\n",
              "<table border=\"1\" class=\"dataframe\">\n",
              "  <thead>\n",
              "    <tr style=\"text-align: right;\">\n",
              "      <th></th>\n",
              "      <th>mpg</th>\n",
              "      <th>cylinders</th>\n",
              "      <th>displacement</th>\n",
              "      <th>horsepower</th>\n",
              "      <th>weight</th>\n",
              "      <th>acceleration</th>\n",
              "      <th>model year</th>\n",
              "      <th>origin</th>\n",
              "    </tr>\n",
              "  </thead>\n",
              "  <tbody>\n",
              "    <tr>\n",
              "      <th>0</th>\n",
              "      <td>18.0</td>\n",
              "      <td>8</td>\n",
              "      <td>307.0</td>\n",
              "      <td>15</td>\n",
              "      <td>3504</td>\n",
              "      <td>12.0</td>\n",
              "      <td>70</td>\n",
              "      <td>1</td>\n",
              "    </tr>\n",
              "    <tr>\n",
              "      <th>1</th>\n",
              "      <td>15.0</td>\n",
              "      <td>8</td>\n",
              "      <td>350.0</td>\n",
              "      <td>33</td>\n",
              "      <td>3693</td>\n",
              "      <td>11.5</td>\n",
              "      <td>70</td>\n",
              "      <td>1</td>\n",
              "    </tr>\n",
              "    <tr>\n",
              "      <th>2</th>\n",
              "      <td>18.0</td>\n",
              "      <td>8</td>\n",
              "      <td>318.0</td>\n",
              "      <td>27</td>\n",
              "      <td>3436</td>\n",
              "      <td>11.0</td>\n",
              "      <td>70</td>\n",
              "      <td>1</td>\n",
              "    </tr>\n",
              "    <tr>\n",
              "      <th>3</th>\n",
              "      <td>16.0</td>\n",
              "      <td>8</td>\n",
              "      <td>304.0</td>\n",
              "      <td>27</td>\n",
              "      <td>3433</td>\n",
              "      <td>12.0</td>\n",
              "      <td>70</td>\n",
              "      <td>1</td>\n",
              "    </tr>\n",
              "    <tr>\n",
              "      <th>4</th>\n",
              "      <td>17.0</td>\n",
              "      <td>8</td>\n",
              "      <td>302.0</td>\n",
              "      <td>22</td>\n",
              "      <td>3449</td>\n",
              "      <td>10.5</td>\n",
              "      <td>70</td>\n",
              "      <td>1</td>\n",
              "    </tr>\n",
              "  </tbody>\n",
              "</table>\n",
              "</div>\n",
              "      <button class=\"colab-df-convert\" onclick=\"convertToInteractive('df-b2ce6e98-f202-4b90-9cda-439dad466801')\"\n",
              "              title=\"Convert this dataframe to an interactive table.\"\n",
              "              style=\"display:none;\">\n",
              "        \n",
              "  <svg xmlns=\"http://www.w3.org/2000/svg\" height=\"24px\"viewBox=\"0 0 24 24\"\n",
              "       width=\"24px\">\n",
              "    <path d=\"M0 0h24v24H0V0z\" fill=\"none\"/>\n",
              "    <path d=\"M18.56 5.44l.94 2.06.94-2.06 2.06-.94-2.06-.94-.94-2.06-.94 2.06-2.06.94zm-11 1L8.5 8.5l.94-2.06 2.06-.94-2.06-.94L8.5 2.5l-.94 2.06-2.06.94zm10 10l.94 2.06.94-2.06 2.06-.94-2.06-.94-.94-2.06-.94 2.06-2.06.94z\"/><path d=\"M17.41 7.96l-1.37-1.37c-.4-.4-.92-.59-1.43-.59-.52 0-1.04.2-1.43.59L10.3 9.45l-7.72 7.72c-.78.78-.78 2.05 0 2.83L4 21.41c.39.39.9.59 1.41.59.51 0 1.02-.2 1.41-.59l7.78-7.78 2.81-2.81c.8-.78.8-2.07 0-2.86zM5.41 20L4 18.59l7.72-7.72 1.47 1.35L5.41 20z\"/>\n",
              "  </svg>\n",
              "      </button>\n",
              "      \n",
              "  <style>\n",
              "    .colab-df-container {\n",
              "      display:flex;\n",
              "      flex-wrap:wrap;\n",
              "      gap: 12px;\n",
              "    }\n",
              "\n",
              "    .colab-df-convert {\n",
              "      background-color: #E8F0FE;\n",
              "      border: none;\n",
              "      border-radius: 50%;\n",
              "      cursor: pointer;\n",
              "      display: none;\n",
              "      fill: #1967D2;\n",
              "      height: 32px;\n",
              "      padding: 0 0 0 0;\n",
              "      width: 32px;\n",
              "    }\n",
              "\n",
              "    .colab-df-convert:hover {\n",
              "      background-color: #E2EBFA;\n",
              "      box-shadow: 0px 1px 2px rgba(60, 64, 67, 0.3), 0px 1px 3px 1px rgba(60, 64, 67, 0.15);\n",
              "      fill: #174EA6;\n",
              "    }\n",
              "\n",
              "    [theme=dark] .colab-df-convert {\n",
              "      background-color: #3B4455;\n",
              "      fill: #D2E3FC;\n",
              "    }\n",
              "\n",
              "    [theme=dark] .colab-df-convert:hover {\n",
              "      background-color: #434B5C;\n",
              "      box-shadow: 0px 1px 3px 1px rgba(0, 0, 0, 0.15);\n",
              "      filter: drop-shadow(0px 1px 2px rgba(0, 0, 0, 0.3));\n",
              "      fill: #FFFFFF;\n",
              "    }\n",
              "  </style>\n",
              "\n",
              "      <script>\n",
              "        const buttonEl =\n",
              "          document.querySelector('#df-b2ce6e98-f202-4b90-9cda-439dad466801 button.colab-df-convert');\n",
              "        buttonEl.style.display =\n",
              "          google.colab.kernel.accessAllowed ? 'block' : 'none';\n",
              "\n",
              "        async function convertToInteractive(key) {\n",
              "          const element = document.querySelector('#df-b2ce6e98-f202-4b90-9cda-439dad466801');\n",
              "          const dataTable =\n",
              "            await google.colab.kernel.invokeFunction('convertToInteractive',\n",
              "                                                     [key], {});\n",
              "          if (!dataTable) return;\n",
              "\n",
              "          const docLinkHtml = 'Like what you see? Visit the ' +\n",
              "            '<a target=\"_blank\" href=https://colab.research.google.com/notebooks/data_table.ipynb>data table notebook</a>'\n",
              "            + ' to learn more about interactive tables.';\n",
              "          element.innerHTML = '';\n",
              "          dataTable['output_type'] = 'display_data';\n",
              "          await google.colab.output.renderOutput(dataTable, element);\n",
              "          const docLink = document.createElement('div');\n",
              "          docLink.innerHTML = docLinkHtml;\n",
              "          element.appendChild(docLink);\n",
              "        }\n",
              "      </script>\n",
              "    </div>\n",
              "  </div>\n",
              "  "
            ]
          },
          "metadata": {},
          "execution_count": 6
        }
      ]
    },
    {
      "cell_type": "code",
      "metadata": {
        "colab": {
          "base_uri": "https://localhost:8080/"
        },
        "id": "iEW8FkwzKvxR",
        "outputId": "6e0851ce-4998-4bcf-9590-77f3535fa807"
      },
      "source": [
        "X = data.values[:, :-1]\n",
        "print(X)\n",
        "Y = data.values[:, -1]\n",
        "print(Y)"
      ],
      "execution_count": 7,
      "outputs": [
        {
          "output_type": "stream",
          "name": "stdout",
          "text": [
            "[[  18.     8.   307.  ... 3504.    12.    70. ]\n",
            " [  15.     8.   350.  ... 3693.    11.5   70. ]\n",
            " [  18.     8.   318.  ... 3436.    11.    70. ]\n",
            " ...\n",
            " [  32.     4.   135.  ... 2295.    11.6   82. ]\n",
            " [  28.     4.   120.  ... 2625.    18.6   82. ]\n",
            " [  31.     4.   119.  ... 2720.    19.4   82. ]]\n",
            "[1. 1. 1. 1. 1. 1. 1. 1. 1. 1. 1. 1. 1. 1. 3. 1. 1. 1. 3. 2. 2. 2. 2. 2.\n",
            " 1. 1. 1. 1. 1. 3. 1. 3. 1. 1. 1. 1. 1. 1. 1. 1. 1. 1. 1. 1. 1. 1. 1. 1.\n",
            " 1. 1. 2. 2. 2. 3. 3. 2. 1. 3. 1. 2. 1. 1. 1. 1. 1. 1. 1. 1. 1. 1. 1. 3.\n",
            " 1. 1. 1. 1. 2. 2. 2. 2. 1. 3. 3. 1. 3. 1. 1. 1. 1. 1. 1. 1. 1. 1. 1. 1.\n",
            " 1. 1. 1. 1. 1. 1. 2. 1. 1. 1. 1. 1. 3. 1. 3. 3. 1. 1. 2. 1. 1. 2. 2. 2.\n",
            " 2. 1. 2. 3. 1. 1. 1. 1. 1. 3. 1. 3. 1. 1. 1. 1. 1. 1. 1. 1. 1. 2. 2. 2.\n",
            " 3. 3. 1. 2. 2. 3. 3. 2. 1. 1. 1. 1. 1. 1. 1. 1. 1. 1. 1. 1. 1. 1. 1. 3.\n",
            " 1. 1. 1. 3. 2. 3. 1. 2. 1. 2. 2. 2. 2. 3. 2. 2. 1. 1. 2. 1. 1. 1. 1. 1.\n",
            " 1. 1. 1. 1. 1. 2. 3. 1. 1. 1. 1. 2. 3. 3. 1. 2. 1. 2. 3. 2. 1. 1. 1. 1.\n",
            " 3. 1. 2. 1. 3. 1. 1. 1. 1. 1. 1. 1. 1. 1. 1. 1. 1. 2. 1. 3. 1. 1. 1. 3.\n",
            " 2. 3. 2. 3. 2. 1. 3. 3. 3. 1. 1. 1. 1. 1. 1. 1. 1. 1. 1. 1. 1. 1. 1. 1.\n",
            " 1. 1. 1. 3. 3. 1. 3. 1. 1. 3. 2. 2. 2. 2. 2. 3. 1. 1. 1. 1. 1. 1. 1. 1.\n",
            " 1. 1. 1. 1. 1. 2. 3. 1. 1. 2. 1. 2. 1. 1. 1. 3. 2. 1. 1. 1. 1. 2. 3. 1.\n",
            " 3. 1. 1. 1. 1. 2. 3. 3. 3. 3. 3. 1. 3. 2. 2. 2. 2. 3. 2. 3. 2. 3. 3. 2.\n",
            " 1. 3. 1. 1. 1. 1. 1. 3. 1. 3. 3. 3. 3. 3. 1. 1. 1. 2. 2. 3. 3. 3. 3. 2.\n",
            " 2. 3. 3. 1. 1. 1. 1. 1. 1. 1. 1. 1. 1. 1. 1. 2. 3. 3. 1. 1. 3. 3. 3. 3.\n",
            " 3. 3. 1. 1. 1. 1. 3. 1. 1. 1. 2. 1. 1. 1.]\n"
          ]
        }
      ]
    },
    {
      "cell_type": "code",
      "metadata": {
        "colab": {
          "base_uri": "https://localhost:8080/"
        },
        "id": "68wllMN6S1tX",
        "outputId": "2060cb05-d726-4e98-b247-96bc369e49b5"
      },
      "source": [
        "from collections import Counter\n",
        "counter = Counter()\n",
        "counter.update(Y)\n",
        "print(counter)"
      ],
      "execution_count": 8,
      "outputs": [
        {
          "output_type": "stream",
          "name": "stdout",
          "text": [
            "Counter({1.0: 249, 3.0: 79, 2.0: 70})\n"
          ]
        }
      ]
    },
    {
      "cell_type": "code",
      "source": [
        "X"
      ],
      "metadata": {
        "colab": {
          "base_uri": "https://localhost:8080/"
        },
        "id": "xHXo1UxTveWX",
        "outputId": "6b12b46f-74db-47aa-ccc4-99fcfc869038"
      },
      "execution_count": 9,
      "outputs": [
        {
          "output_type": "execute_result",
          "data": {
            "text/plain": [
              "array([[  18. ,    8. ,  307. , ..., 3504. ,   12. ,   70. ],\n",
              "       [  15. ,    8. ,  350. , ..., 3693. ,   11.5,   70. ],\n",
              "       [  18. ,    8. ,  318. , ..., 3436. ,   11. ,   70. ],\n",
              "       ...,\n",
              "       [  32. ,    4. ,  135. , ..., 2295. ,   11.6,   82. ],\n",
              "       [  28. ,    4. ,  120. , ..., 2625. ,   18.6,   82. ],\n",
              "       [  31. ,    4. ,  119. , ..., 2720. ,   19.4,   82. ]])"
            ]
          },
          "metadata": {},
          "execution_count": 9
        }
      ]
    },
    {
      "cell_type": "code",
      "metadata": {
        "id": "vYPOaa1WTBAE"
      },
      "source": [
        "X = np.asarray(X.astype(np.float32))"
      ],
      "execution_count": 10,
      "outputs": []
    },
    {
      "cell_type": "code",
      "metadata": {
        "colab": {
          "base_uri": "https://localhost:8080/"
        },
        "id": "Ur8d6qwL_v3q",
        "outputId": "fe8e8931-e66b-4ff7-e731-9319e888e0e4"
      },
      "source": [
        "from sklearn.model_selection import train_test_split\n",
        "X_train, X_test, Y_train, Y_test = train_test_split(X, Y, test_size=0.3, random_state=100)\n",
        "print('Train:')\n",
        "print(X_train.shape)\n",
        "print(Y_train.shape)\n",
        "\n",
        "print('Test:')\n",
        "print(X_test.shape)\n",
        "print(Y_test.shape)"
      ],
      "execution_count": 11,
      "outputs": [
        {
          "output_type": "stream",
          "name": "stdout",
          "text": [
            "Train:\n",
            "(278, 7)\n",
            "(278,)\n",
            "Test:\n",
            "(120, 7)\n",
            "(120,)\n"
          ]
        }
      ]
    },
    {
      "cell_type": "markdown",
      "metadata": {
        "id": "lxGFVTarAw8i"
      },
      "source": [
        "### **Tạo các model FNN**"
      ]
    },
    {
      "cell_type": "markdown",
      "metadata": {
        "id": "3tvSs9vNA2ZK"
      },
      "source": [
        "### **Model 1**"
      ]
    },
    {
      "cell_type": "code",
      "metadata": {
        "id": "CYkEqvo1TKhk"
      },
      "source": [
        "#Chuẩn hóa bằng Categorical\n",
        "from tensorflow.keras.utils import to_categorical\n",
        "Y_train = to_categorical(Y_train)"
      ],
      "execution_count": 12,
      "outputs": []
    },
    {
      "cell_type": "code",
      "metadata": {
        "id": "PAAR2AEc_2j6"
      },
      "source": [
        "model1 = models.Sequential()\n",
        "model1.add(layers.Dense(16, activation='tanh'))\n",
        "model1.add(layers.Dense(32, activation='tanh'))\n",
        "model1.add(layers.Dense(4,activation='softmax'))\n",
        "model1.compile(loss='mse', optimizer='sgd', metrics=['accuracy'])"
      ],
      "execution_count": 13,
      "outputs": []
    },
    {
      "cell_type": "code",
      "metadata": {
        "colab": {
          "base_uri": "https://localhost:8080/"
        },
        "id": "pI-Ub-zTCg2K",
        "outputId": "2c83de40-2135-44a9-b3a7-9703a5847ebb"
      },
      "source": [
        "model1.fit(X_train,Y_train,epochs=100, batch_size=10)"
      ],
      "execution_count": 14,
      "outputs": [
        {
          "output_type": "stream",
          "name": "stdout",
          "text": [
            "Epoch 1/100\n",
            "28/28 [==============================] - 1s 2ms/step - loss: 0.2235 - accuracy: 0.0647\n",
            "Epoch 2/100\n",
            "28/28 [==============================] - 0s 2ms/step - loss: 0.1878 - accuracy: 0.3741\n",
            "Epoch 3/100\n",
            "28/28 [==============================] - 0s 2ms/step - loss: 0.1640 - accuracy: 0.6151\n",
            "Epoch 4/100\n",
            "28/28 [==============================] - 0s 1ms/step - loss: 0.1530 - accuracy: 0.6151\n",
            "Epoch 5/100\n",
            "28/28 [==============================] - 0s 1ms/step - loss: 0.1485 - accuracy: 0.6151\n",
            "Epoch 6/100\n",
            "28/28 [==============================] - 0s 1ms/step - loss: 0.1467 - accuracy: 0.6151\n",
            "Epoch 7/100\n",
            "28/28 [==============================] - 0s 1ms/step - loss: 0.1459 - accuracy: 0.6151\n",
            "Epoch 8/100\n",
            "28/28 [==============================] - 0s 2ms/step - loss: 0.1454 - accuracy: 0.6151\n",
            "Epoch 9/100\n",
            "28/28 [==============================] - 0s 1ms/step - loss: 0.1449 - accuracy: 0.6151\n",
            "Epoch 10/100\n",
            "28/28 [==============================] - 0s 1ms/step - loss: 0.1446 - accuracy: 0.6151\n",
            "Epoch 11/100\n",
            "28/28 [==============================] - 0s 1ms/step - loss: 0.1444 - accuracy: 0.6151\n",
            "Epoch 12/100\n",
            "28/28 [==============================] - 0s 1ms/step - loss: 0.1441 - accuracy: 0.6151\n",
            "Epoch 13/100\n",
            "28/28 [==============================] - 0s 1ms/step - loss: 0.1439 - accuracy: 0.6151\n",
            "Epoch 14/100\n",
            "28/28 [==============================] - 0s 2ms/step - loss: 0.1438 - accuracy: 0.6151\n",
            "Epoch 15/100\n",
            "28/28 [==============================] - 0s 1ms/step - loss: 0.1435 - accuracy: 0.6151\n",
            "Epoch 16/100\n",
            "28/28 [==============================] - 0s 1ms/step - loss: 0.1433 - accuracy: 0.6151\n",
            "Epoch 17/100\n",
            "28/28 [==============================] - 0s 1ms/step - loss: 0.1431 - accuracy: 0.6151\n",
            "Epoch 18/100\n",
            "28/28 [==============================] - 0s 1ms/step - loss: 0.1429 - accuracy: 0.6151\n",
            "Epoch 19/100\n",
            "28/28 [==============================] - 0s 2ms/step - loss: 0.1427 - accuracy: 0.6151\n",
            "Epoch 20/100\n",
            "28/28 [==============================] - 0s 1ms/step - loss: 0.1425 - accuracy: 0.6151\n",
            "Epoch 21/100\n",
            "28/28 [==============================] - 0s 2ms/step - loss: 0.1423 - accuracy: 0.6151\n",
            "Epoch 22/100\n",
            "28/28 [==============================] - 0s 1ms/step - loss: 0.1422 - accuracy: 0.6151\n",
            "Epoch 23/100\n",
            "28/28 [==============================] - 0s 2ms/step - loss: 0.1420 - accuracy: 0.6151\n",
            "Epoch 24/100\n",
            "28/28 [==============================] - 0s 1ms/step - loss: 0.1418 - accuracy: 0.6151\n",
            "Epoch 25/100\n",
            "28/28 [==============================] - 0s 1ms/step - loss: 0.1416 - accuracy: 0.6151\n",
            "Epoch 26/100\n",
            "28/28 [==============================] - 0s 2ms/step - loss: 0.1414 - accuracy: 0.6151\n",
            "Epoch 27/100\n",
            "28/28 [==============================] - 0s 2ms/step - loss: 0.1412 - accuracy: 0.6151\n",
            "Epoch 28/100\n",
            "28/28 [==============================] - 0s 1ms/step - loss: 0.1410 - accuracy: 0.6151\n",
            "Epoch 29/100\n",
            "28/28 [==============================] - 0s 2ms/step - loss: 0.1409 - accuracy: 0.6151\n",
            "Epoch 30/100\n",
            "28/28 [==============================] - 0s 1ms/step - loss: 0.1407 - accuracy: 0.6151\n",
            "Epoch 31/100\n",
            "28/28 [==============================] - 0s 1ms/step - loss: 0.1405 - accuracy: 0.6151\n",
            "Epoch 32/100\n",
            "28/28 [==============================] - 0s 1ms/step - loss: 0.1403 - accuracy: 0.6151\n",
            "Epoch 33/100\n",
            "28/28 [==============================] - 0s 2ms/step - loss: 0.1402 - accuracy: 0.6151\n",
            "Epoch 34/100\n",
            "28/28 [==============================] - 0s 1ms/step - loss: 0.1400 - accuracy: 0.6151\n",
            "Epoch 35/100\n",
            "28/28 [==============================] - 0s 1ms/step - loss: 0.1398 - accuracy: 0.6151\n",
            "Epoch 36/100\n",
            "28/28 [==============================] - 0s 1ms/step - loss: 0.1397 - accuracy: 0.6151\n",
            "Epoch 37/100\n",
            "28/28 [==============================] - 0s 1ms/step - loss: 0.1395 - accuracy: 0.6151\n",
            "Epoch 38/100\n",
            "28/28 [==============================] - 0s 1ms/step - loss: 0.1394 - accuracy: 0.6151\n",
            "Epoch 39/100\n",
            "28/28 [==============================] - 0s 1ms/step - loss: 0.1393 - accuracy: 0.6151\n",
            "Epoch 40/100\n",
            "28/28 [==============================] - 0s 1ms/step - loss: 0.1391 - accuracy: 0.6151\n",
            "Epoch 41/100\n",
            "28/28 [==============================] - 0s 1ms/step - loss: 0.1391 - accuracy: 0.6151\n",
            "Epoch 42/100\n",
            "28/28 [==============================] - 0s 2ms/step - loss: 0.1390 - accuracy: 0.6151\n",
            "Epoch 43/100\n",
            "28/28 [==============================] - 0s 1ms/step - loss: 0.1389 - accuracy: 0.6151\n",
            "Epoch 44/100\n",
            "28/28 [==============================] - 0s 2ms/step - loss: 0.1388 - accuracy: 0.6151\n",
            "Epoch 45/100\n",
            "28/28 [==============================] - 0s 1ms/step - loss: 0.1387 - accuracy: 0.6151\n",
            "Epoch 46/100\n",
            "28/28 [==============================] - 0s 1ms/step - loss: 0.1386 - accuracy: 0.6151\n",
            "Epoch 47/100\n",
            "28/28 [==============================] - 0s 1ms/step - loss: 0.1386 - accuracy: 0.6151\n",
            "Epoch 48/100\n",
            "28/28 [==============================] - 0s 1ms/step - loss: 0.1385 - accuracy: 0.6151\n",
            "Epoch 49/100\n",
            "28/28 [==============================] - 0s 2ms/step - loss: 0.1384 - accuracy: 0.6151\n",
            "Epoch 50/100\n",
            "28/28 [==============================] - 0s 1ms/step - loss: 0.1384 - accuracy: 0.6151\n",
            "Epoch 51/100\n",
            "28/28 [==============================] - 0s 1ms/step - loss: 0.1382 - accuracy: 0.6151\n",
            "Epoch 52/100\n",
            "28/28 [==============================] - 0s 1ms/step - loss: 0.1383 - accuracy: 0.6151\n",
            "Epoch 53/100\n",
            "28/28 [==============================] - 0s 1ms/step - loss: 0.1382 - accuracy: 0.6151\n",
            "Epoch 54/100\n",
            "28/28 [==============================] - 0s 1ms/step - loss: 0.1382 - accuracy: 0.6151\n",
            "Epoch 55/100\n",
            "28/28 [==============================] - 0s 1ms/step - loss: 0.1382 - accuracy: 0.6151\n",
            "Epoch 56/100\n",
            "28/28 [==============================] - 0s 1ms/step - loss: 0.1381 - accuracy: 0.6151\n",
            "Epoch 57/100\n",
            "28/28 [==============================] - 0s 2ms/step - loss: 0.1381 - accuracy: 0.6151\n",
            "Epoch 58/100\n",
            "28/28 [==============================] - 0s 2ms/step - loss: 0.1380 - accuracy: 0.6151\n",
            "Epoch 59/100\n",
            "28/28 [==============================] - 0s 2ms/step - loss: 0.1380 - accuracy: 0.6151\n",
            "Epoch 60/100\n",
            "28/28 [==============================] - 0s 1ms/step - loss: 0.1380 - accuracy: 0.6151\n",
            "Epoch 61/100\n",
            "28/28 [==============================] - 0s 1ms/step - loss: 0.1380 - accuracy: 0.6151\n",
            "Epoch 62/100\n",
            "28/28 [==============================] - 0s 1ms/step - loss: 0.1379 - accuracy: 0.6151\n",
            "Epoch 63/100\n",
            "28/28 [==============================] - 0s 1ms/step - loss: 0.1379 - accuracy: 0.6151\n",
            "Epoch 64/100\n",
            "28/28 [==============================] - 0s 1ms/step - loss: 0.1379 - accuracy: 0.6151\n",
            "Epoch 65/100\n",
            "28/28 [==============================] - 0s 2ms/step - loss: 0.1378 - accuracy: 0.6151\n",
            "Epoch 66/100\n",
            "28/28 [==============================] - 0s 2ms/step - loss: 0.1378 - accuracy: 0.6151\n",
            "Epoch 67/100\n",
            "28/28 [==============================] - 0s 1ms/step - loss: 0.1378 - accuracy: 0.6151\n",
            "Epoch 68/100\n",
            "28/28 [==============================] - 0s 1ms/step - loss: 0.1377 - accuracy: 0.6151\n",
            "Epoch 69/100\n",
            "28/28 [==============================] - 0s 2ms/step - loss: 0.1377 - accuracy: 0.6151\n",
            "Epoch 70/100\n",
            "28/28 [==============================] - 0s 1ms/step - loss: 0.1377 - accuracy: 0.6151\n",
            "Epoch 71/100\n",
            "28/28 [==============================] - 0s 1ms/step - loss: 0.1377 - accuracy: 0.6151\n",
            "Epoch 72/100\n",
            "28/28 [==============================] - 0s 1ms/step - loss: 0.1378 - accuracy: 0.6151\n",
            "Epoch 73/100\n",
            "28/28 [==============================] - 0s 1ms/step - loss: 0.1377 - accuracy: 0.6151\n",
            "Epoch 74/100\n",
            "28/28 [==============================] - 0s 1ms/step - loss: 0.1377 - accuracy: 0.6151\n",
            "Epoch 75/100\n",
            "28/28 [==============================] - 0s 1ms/step - loss: 0.1377 - accuracy: 0.6151\n",
            "Epoch 76/100\n",
            "28/28 [==============================] - 0s 1ms/step - loss: 0.1377 - accuracy: 0.6151\n",
            "Epoch 77/100\n",
            "28/28 [==============================] - 0s 1ms/step - loss: 0.1378 - accuracy: 0.6151\n",
            "Epoch 78/100\n",
            "28/28 [==============================] - 0s 2ms/step - loss: 0.1376 - accuracy: 0.6151\n",
            "Epoch 79/100\n",
            "28/28 [==============================] - 0s 1ms/step - loss: 0.1376 - accuracy: 0.6151\n",
            "Epoch 80/100\n",
            "28/28 [==============================] - 0s 1ms/step - loss: 0.1376 - accuracy: 0.6151\n",
            "Epoch 81/100\n",
            "28/28 [==============================] - 0s 1ms/step - loss: 0.1376 - accuracy: 0.6151\n",
            "Epoch 82/100\n",
            "28/28 [==============================] - 0s 2ms/step - loss: 0.1376 - accuracy: 0.6151\n",
            "Epoch 83/100\n",
            "28/28 [==============================] - 0s 2ms/step - loss: 0.1376 - accuracy: 0.6151\n",
            "Epoch 84/100\n",
            "28/28 [==============================] - 0s 1ms/step - loss: 0.1376 - accuracy: 0.6151\n",
            "Epoch 85/100\n",
            "28/28 [==============================] - 0s 1ms/step - loss: 0.1376 - accuracy: 0.6151\n",
            "Epoch 86/100\n",
            "28/28 [==============================] - 0s 2ms/step - loss: 0.1376 - accuracy: 0.6151\n",
            "Epoch 87/100\n",
            "28/28 [==============================] - 0s 1ms/step - loss: 0.1376 - accuracy: 0.6151\n",
            "Epoch 88/100\n",
            "28/28 [==============================] - 0s 1ms/step - loss: 0.1375 - accuracy: 0.6151\n",
            "Epoch 89/100\n",
            "28/28 [==============================] - 0s 1ms/step - loss: 0.1376 - accuracy: 0.6151\n",
            "Epoch 90/100\n",
            "28/28 [==============================] - 0s 1ms/step - loss: 0.1376 - accuracy: 0.6151\n",
            "Epoch 91/100\n",
            "28/28 [==============================] - 0s 1ms/step - loss: 0.1375 - accuracy: 0.6151\n",
            "Epoch 92/100\n",
            "28/28 [==============================] - 0s 1ms/step - loss: 0.1376 - accuracy: 0.6151\n",
            "Epoch 93/100\n",
            "28/28 [==============================] - 0s 1ms/step - loss: 0.1375 - accuracy: 0.6151\n",
            "Epoch 94/100\n",
            "28/28 [==============================] - 0s 2ms/step - loss: 0.1375 - accuracy: 0.6151\n",
            "Epoch 95/100\n",
            "28/28 [==============================] - 0s 1ms/step - loss: 0.1375 - accuracy: 0.6151\n",
            "Epoch 96/100\n",
            "28/28 [==============================] - 0s 2ms/step - loss: 0.1375 - accuracy: 0.6151\n",
            "Epoch 97/100\n",
            "28/28 [==============================] - 0s 1ms/step - loss: 0.1375 - accuracy: 0.6151\n",
            "Epoch 98/100\n",
            "28/28 [==============================] - 0s 1ms/step - loss: 0.1375 - accuracy: 0.6151\n",
            "Epoch 99/100\n",
            "28/28 [==============================] - 0s 1ms/step - loss: 0.1375 - accuracy: 0.6151\n",
            "Epoch 100/100\n",
            "28/28 [==============================] - 0s 1ms/step - loss: 0.1375 - accuracy: 0.6151\n"
          ]
        },
        {
          "output_type": "execute_result",
          "data": {
            "text/plain": [
              "<keras.callbacks.History at 0x7fbb27ccca90>"
            ]
          },
          "metadata": {},
          "execution_count": 14
        }
      ]
    },
    {
      "cell_type": "code",
      "metadata": {
        "colab": {
          "base_uri": "https://localhost:8080/"
        },
        "id": "1akTOYM4AKqi",
        "outputId": "c30a18f7-d5a5-4f04-cd39-617fb086d1e6"
      },
      "source": [
        "y_pred = model1.predict(X_test)\n",
        "y_pred = y_pred.argmax(axis=1)\n",
        "from sklearn.metrics import classification_report\n",
        "print(classification_report(Y_test,y_pred))\n",
        "M1 = accuracy_score(Y_test,y_pred)"
      ],
      "execution_count": 15,
      "outputs": [
        {
          "output_type": "stream",
          "name": "stdout",
          "text": [
            "              precision    recall  f1-score   support\n",
            "\n",
            "         1.0       0.65      1.00      0.79        78\n",
            "         2.0       0.00      0.00      0.00        17\n",
            "         3.0       0.00      0.00      0.00        25\n",
            "\n",
            "    accuracy                           0.65       120\n",
            "   macro avg       0.22      0.33      0.26       120\n",
            "weighted avg       0.42      0.65      0.51       120\n",
            "\n"
          ]
        },
        {
          "output_type": "stream",
          "name": "stderr",
          "text": [
            "/usr/local/lib/python3.7/dist-packages/sklearn/metrics/_classification.py:1318: UndefinedMetricWarning: Precision and F-score are ill-defined and being set to 0.0 in labels with no predicted samples. Use `zero_division` parameter to control this behavior.\n",
            "  _warn_prf(average, modifier, msg_start, len(result))\n",
            "/usr/local/lib/python3.7/dist-packages/sklearn/metrics/_classification.py:1318: UndefinedMetricWarning: Precision and F-score are ill-defined and being set to 0.0 in labels with no predicted samples. Use `zero_division` parameter to control this behavior.\n",
            "  _warn_prf(average, modifier, msg_start, len(result))\n",
            "/usr/local/lib/python3.7/dist-packages/sklearn/metrics/_classification.py:1318: UndefinedMetricWarning: Precision and F-score are ill-defined and being set to 0.0 in labels with no predicted samples. Use `zero_division` parameter to control this behavior.\n",
            "  _warn_prf(average, modifier, msg_start, len(result))\n"
          ]
        }
      ]
    },
    {
      "cell_type": "markdown",
      "metadata": {
        "id": "20p7LZ64ccyj"
      },
      "source": [
        "### **Model 2**"
      ]
    },
    {
      "cell_type": "code",
      "metadata": {
        "id": "m7bytlUoGz85"
      },
      "source": [
        "# Thêm tầng\n",
        "model2 = models.Sequential()\n",
        "model2.add(layers.Dense(16, activation='tanh'))\n",
        "model2.add(layers.Dense(32, activation='tanh'))\n",
        "model2.add(layers.Dense(32, activation='tanh'))\n",
        "model2.add(layers.Dense(32, activation='tanh'))\n",
        "model2.add(layers.Dense(4,activation='softmax'))\n",
        "model2.compile(loss='mse', optimizer='sgd', metrics=['accuracy'])"
      ],
      "execution_count": 16,
      "outputs": []
    },
    {
      "cell_type": "code",
      "metadata": {
        "colab": {
          "base_uri": "https://localhost:8080/"
        },
        "id": "L0DqAkwdHbk8",
        "outputId": "a9203214-a241-424d-cb1c-c8e48149aaa9"
      },
      "source": [
        "model2.fit(X_train,Y_train,epochs=100, batch_size=10)"
      ],
      "execution_count": 17,
      "outputs": [
        {
          "output_type": "stream",
          "name": "stdout",
          "text": [
            "Epoch 1/100\n",
            "28/28 [==============================] - 0s 1ms/step - loss: 0.1855 - accuracy: 0.2446\n",
            "Epoch 2/100\n",
            "28/28 [==============================] - 0s 1ms/step - loss: 0.1567 - accuracy: 0.6151\n",
            "Epoch 3/100\n",
            "28/28 [==============================] - 0s 1ms/step - loss: 0.1475 - accuracy: 0.6151\n",
            "Epoch 4/100\n",
            "28/28 [==============================] - 0s 1ms/step - loss: 0.1442 - accuracy: 0.6151\n",
            "Epoch 5/100\n",
            "28/28 [==============================] - 0s 1ms/step - loss: 0.1426 - accuracy: 0.6151\n",
            "Epoch 6/100\n",
            "28/28 [==============================] - 0s 2ms/step - loss: 0.1417 - accuracy: 0.6151\n",
            "Epoch 7/100\n",
            "28/28 [==============================] - 0s 1ms/step - loss: 0.1410 - accuracy: 0.6151\n",
            "Epoch 8/100\n",
            "28/28 [==============================] - 0s 2ms/step - loss: 0.1405 - accuracy: 0.6151\n",
            "Epoch 9/100\n",
            "28/28 [==============================] - 0s 1ms/step - loss: 0.1401 - accuracy: 0.6151\n",
            "Epoch 10/100\n",
            "28/28 [==============================] - 0s 2ms/step - loss: 0.1399 - accuracy: 0.6151\n",
            "Epoch 11/100\n",
            "28/28 [==============================] - 0s 1ms/step - loss: 0.1396 - accuracy: 0.6151\n",
            "Epoch 12/100\n",
            "28/28 [==============================] - 0s 1ms/step - loss: 0.1394 - accuracy: 0.6151\n",
            "Epoch 13/100\n",
            "28/28 [==============================] - 0s 1ms/step - loss: 0.1392 - accuracy: 0.6151\n",
            "Epoch 14/100\n",
            "28/28 [==============================] - 0s 2ms/step - loss: 0.1391 - accuracy: 0.6151\n",
            "Epoch 15/100\n",
            "28/28 [==============================] - 0s 2ms/step - loss: 0.1389 - accuracy: 0.6151\n",
            "Epoch 16/100\n",
            "28/28 [==============================] - 0s 1ms/step - loss: 0.1388 - accuracy: 0.6151\n",
            "Epoch 17/100\n",
            "28/28 [==============================] - 0s 1ms/step - loss: 0.1387 - accuracy: 0.6151\n",
            "Epoch 18/100\n",
            "28/28 [==============================] - 0s 1ms/step - loss: 0.1387 - accuracy: 0.6151\n",
            "Epoch 19/100\n",
            "28/28 [==============================] - 0s 1ms/step - loss: 0.1385 - accuracy: 0.6151\n",
            "Epoch 20/100\n",
            "28/28 [==============================] - 0s 1ms/step - loss: 0.1385 - accuracy: 0.6151\n",
            "Epoch 21/100\n",
            "28/28 [==============================] - 0s 1ms/step - loss: 0.1384 - accuracy: 0.6151\n",
            "Epoch 22/100\n",
            "28/28 [==============================] - 0s 1ms/step - loss: 0.1384 - accuracy: 0.6151\n",
            "Epoch 23/100\n",
            "28/28 [==============================] - 0s 1ms/step - loss: 0.1383 - accuracy: 0.6151\n",
            "Epoch 24/100\n",
            "28/28 [==============================] - 0s 1ms/step - loss: 0.1382 - accuracy: 0.6151\n",
            "Epoch 25/100\n",
            "28/28 [==============================] - 0s 1ms/step - loss: 0.1383 - accuracy: 0.6151\n",
            "Epoch 26/100\n",
            "28/28 [==============================] - 0s 1ms/step - loss: 0.1383 - accuracy: 0.6151\n",
            "Epoch 27/100\n",
            "28/28 [==============================] - 0s 1ms/step - loss: 0.1382 - accuracy: 0.6151\n",
            "Epoch 28/100\n",
            "28/28 [==============================] - 0s 2ms/step - loss: 0.1381 - accuracy: 0.6151\n",
            "Epoch 29/100\n",
            "28/28 [==============================] - 0s 1ms/step - loss: 0.1383 - accuracy: 0.6151\n",
            "Epoch 30/100\n",
            "28/28 [==============================] - 0s 2ms/step - loss: 0.1381 - accuracy: 0.6151\n",
            "Epoch 31/100\n",
            "28/28 [==============================] - 0s 1ms/step - loss: 0.1380 - accuracy: 0.6151\n",
            "Epoch 32/100\n",
            "28/28 [==============================] - 0s 1ms/step - loss: 0.1381 - accuracy: 0.6151\n",
            "Epoch 33/100\n",
            "28/28 [==============================] - 0s 1ms/step - loss: 0.1379 - accuracy: 0.6151\n",
            "Epoch 34/100\n",
            "28/28 [==============================] - 0s 2ms/step - loss: 0.1379 - accuracy: 0.6151\n",
            "Epoch 35/100\n",
            "28/28 [==============================] - 0s 1ms/step - loss: 0.1379 - accuracy: 0.6151\n",
            "Epoch 36/100\n",
            "28/28 [==============================] - 0s 2ms/step - loss: 0.1379 - accuracy: 0.6151\n",
            "Epoch 37/100\n",
            "28/28 [==============================] - 0s 2ms/step - loss: 0.1379 - accuracy: 0.6151\n",
            "Epoch 38/100\n",
            "28/28 [==============================] - 0s 1ms/step - loss: 0.1378 - accuracy: 0.6151\n",
            "Epoch 39/100\n",
            "28/28 [==============================] - 0s 2ms/step - loss: 0.1380 - accuracy: 0.6151\n",
            "Epoch 40/100\n",
            "28/28 [==============================] - 0s 1ms/step - loss: 0.1378 - accuracy: 0.6151\n",
            "Epoch 41/100\n",
            "28/28 [==============================] - 0s 1ms/step - loss: 0.1378 - accuracy: 0.6151\n",
            "Epoch 42/100\n",
            "28/28 [==============================] - 0s 1ms/step - loss: 0.1378 - accuracy: 0.6151\n",
            "Epoch 43/100\n",
            "28/28 [==============================] - 0s 1ms/step - loss: 0.1378 - accuracy: 0.6151\n",
            "Epoch 44/100\n",
            "28/28 [==============================] - 0s 1ms/step - loss: 0.1378 - accuracy: 0.6151\n",
            "Epoch 45/100\n",
            "28/28 [==============================] - 0s 2ms/step - loss: 0.1379 - accuracy: 0.6151\n",
            "Epoch 46/100\n",
            "28/28 [==============================] - 0s 1ms/step - loss: 0.1377 - accuracy: 0.6151\n",
            "Epoch 47/100\n",
            "28/28 [==============================] - 0s 1ms/step - loss: 0.1377 - accuracy: 0.6151\n",
            "Epoch 48/100\n",
            "28/28 [==============================] - 0s 1ms/step - loss: 0.1378 - accuracy: 0.6151\n",
            "Epoch 49/100\n",
            "28/28 [==============================] - 0s 1ms/step - loss: 0.1377 - accuracy: 0.6151\n",
            "Epoch 50/100\n",
            "28/28 [==============================] - 0s 1ms/step - loss: 0.1378 - accuracy: 0.6151\n",
            "Epoch 51/100\n",
            "28/28 [==============================] - 0s 1ms/step - loss: 0.1377 - accuracy: 0.6151\n",
            "Epoch 52/100\n",
            "28/28 [==============================] - 0s 1ms/step - loss: 0.1377 - accuracy: 0.6151\n",
            "Epoch 53/100\n",
            "28/28 [==============================] - 0s 1ms/step - loss: 0.1377 - accuracy: 0.6151\n",
            "Epoch 54/100\n",
            "28/28 [==============================] - 0s 2ms/step - loss: 0.1377 - accuracy: 0.6151\n",
            "Epoch 55/100\n",
            "28/28 [==============================] - 0s 1ms/step - loss: 0.1377 - accuracy: 0.6151\n",
            "Epoch 56/100\n",
            "28/28 [==============================] - 0s 1ms/step - loss: 0.1376 - accuracy: 0.6151\n",
            "Epoch 57/100\n",
            "28/28 [==============================] - 0s 1ms/step - loss: 0.1376 - accuracy: 0.6151\n",
            "Epoch 58/100\n",
            "28/28 [==============================] - 0s 2ms/step - loss: 0.1377 - accuracy: 0.6151\n",
            "Epoch 59/100\n",
            "28/28 [==============================] - 0s 1ms/step - loss: 0.1376 - accuracy: 0.6151\n",
            "Epoch 60/100\n",
            "28/28 [==============================] - 0s 1ms/step - loss: 0.1377 - accuracy: 0.6151\n",
            "Epoch 61/100\n",
            "28/28 [==============================] - 0s 1ms/step - loss: 0.1376 - accuracy: 0.6151\n",
            "Epoch 62/100\n",
            "28/28 [==============================] - 0s 2ms/step - loss: 0.1376 - accuracy: 0.6151\n",
            "Epoch 63/100\n",
            "28/28 [==============================] - 0s 1ms/step - loss: 0.1376 - accuracy: 0.6151\n",
            "Epoch 64/100\n",
            "28/28 [==============================] - 0s 1ms/step - loss: 0.1376 - accuracy: 0.6151\n",
            "Epoch 65/100\n",
            "28/28 [==============================] - 0s 1ms/step - loss: 0.1376 - accuracy: 0.6151\n",
            "Epoch 66/100\n",
            "28/28 [==============================] - 0s 1ms/step - loss: 0.1376 - accuracy: 0.6151\n",
            "Epoch 67/100\n",
            "28/28 [==============================] - 0s 1ms/step - loss: 0.1375 - accuracy: 0.6151\n",
            "Epoch 68/100\n",
            "28/28 [==============================] - 0s 2ms/step - loss: 0.1376 - accuracy: 0.6151\n",
            "Epoch 69/100\n",
            "28/28 [==============================] - 0s 1ms/step - loss: 0.1376 - accuracy: 0.6151\n",
            "Epoch 70/100\n",
            "28/28 [==============================] - 0s 2ms/step - loss: 0.1374 - accuracy: 0.6151\n",
            "Epoch 71/100\n",
            "28/28 [==============================] - 0s 1ms/step - loss: 0.1375 - accuracy: 0.6151\n",
            "Epoch 72/100\n",
            "28/28 [==============================] - 0s 1ms/step - loss: 0.1375 - accuracy: 0.6151\n",
            "Epoch 73/100\n",
            "28/28 [==============================] - 0s 2ms/step - loss: 0.1375 - accuracy: 0.6151\n",
            "Epoch 74/100\n",
            "28/28 [==============================] - 0s 1ms/step - loss: 0.1375 - accuracy: 0.6151\n",
            "Epoch 75/100\n",
            "28/28 [==============================] - 0s 1ms/step - loss: 0.1376 - accuracy: 0.6151\n",
            "Epoch 76/100\n",
            "28/28 [==============================] - 0s 1ms/step - loss: 0.1375 - accuracy: 0.6151\n",
            "Epoch 77/100\n",
            "28/28 [==============================] - 0s 2ms/step - loss: 0.1374 - accuracy: 0.6151\n",
            "Epoch 78/100\n",
            "28/28 [==============================] - 0s 1ms/step - loss: 0.1375 - accuracy: 0.6151\n",
            "Epoch 79/100\n",
            "28/28 [==============================] - 0s 2ms/step - loss: 0.1375 - accuracy: 0.6151\n",
            "Epoch 80/100\n",
            "28/28 [==============================] - 0s 2ms/step - loss: 0.1374 - accuracy: 0.6151\n",
            "Epoch 81/100\n",
            "28/28 [==============================] - 0s 2ms/step - loss: 0.1375 - accuracy: 0.6151\n",
            "Epoch 82/100\n",
            "28/28 [==============================] - 0s 2ms/step - loss: 0.1374 - accuracy: 0.6151\n",
            "Epoch 83/100\n",
            "28/28 [==============================] - 0s 1ms/step - loss: 0.1374 - accuracy: 0.6151\n",
            "Epoch 84/100\n",
            "28/28 [==============================] - 0s 1ms/step - loss: 0.1375 - accuracy: 0.6151\n",
            "Epoch 85/100\n",
            "28/28 [==============================] - 0s 1ms/step - loss: 0.1375 - accuracy: 0.6151\n",
            "Epoch 86/100\n",
            "28/28 [==============================] - 0s 1ms/step - loss: 0.1374 - accuracy: 0.6151\n",
            "Epoch 87/100\n",
            "28/28 [==============================] - 0s 1ms/step - loss: 0.1375 - accuracy: 0.6151\n",
            "Epoch 88/100\n",
            "28/28 [==============================] - 0s 1ms/step - loss: 0.1376 - accuracy: 0.6151\n",
            "Epoch 89/100\n",
            "28/28 [==============================] - 0s 2ms/step - loss: 0.1375 - accuracy: 0.6151\n",
            "Epoch 90/100\n",
            "28/28 [==============================] - 0s 1ms/step - loss: 0.1374 - accuracy: 0.6151\n",
            "Epoch 91/100\n",
            "28/28 [==============================] - 0s 1ms/step - loss: 0.1374 - accuracy: 0.6151\n",
            "Epoch 92/100\n",
            "28/28 [==============================] - 0s 1ms/step - loss: 0.1375 - accuracy: 0.6151\n",
            "Epoch 93/100\n",
            "28/28 [==============================] - 0s 2ms/step - loss: 0.1375 - accuracy: 0.6151\n",
            "Epoch 94/100\n",
            "28/28 [==============================] - 0s 1ms/step - loss: 0.1374 - accuracy: 0.6151\n",
            "Epoch 95/100\n",
            "28/28 [==============================] - 0s 1ms/step - loss: 0.1375 - accuracy: 0.6151\n",
            "Epoch 96/100\n",
            "28/28 [==============================] - 0s 1ms/step - loss: 0.1375 - accuracy: 0.6151\n",
            "Epoch 97/100\n",
            "28/28 [==============================] - 0s 1ms/step - loss: 0.1375 - accuracy: 0.6151\n",
            "Epoch 98/100\n",
            "28/28 [==============================] - 0s 2ms/step - loss: 0.1374 - accuracy: 0.6151\n",
            "Epoch 99/100\n",
            "28/28 [==============================] - 0s 2ms/step - loss: 0.1375 - accuracy: 0.6151\n",
            "Epoch 100/100\n",
            "28/28 [==============================] - 0s 2ms/step - loss: 0.1375 - accuracy: 0.6151\n"
          ]
        },
        {
          "output_type": "execute_result",
          "data": {
            "text/plain": [
              "<keras.callbacks.History at 0x7fbb2bec2350>"
            ]
          },
          "metadata": {},
          "execution_count": 17
        }
      ]
    },
    {
      "cell_type": "code",
      "metadata": {
        "colab": {
          "base_uri": "https://localhost:8080/"
        },
        "id": "Qt5qAiRcJOGb",
        "outputId": "4740807c-11cb-4620-db7d-8df08d918596"
      },
      "source": [
        "y_pred = model2.predict(X_test)\n",
        "y_pred = y_pred.argmax(axis=1)\n",
        "from sklearn.metrics import classification_report\n",
        "print(classification_report(Y_test,y_pred))\n",
        "M2 = accuracy_score(Y_test,y_pred)"
      ],
      "execution_count": 18,
      "outputs": [
        {
          "output_type": "stream",
          "name": "stdout",
          "text": [
            "              precision    recall  f1-score   support\n",
            "\n",
            "         1.0       0.65      1.00      0.79        78\n",
            "         2.0       0.00      0.00      0.00        17\n",
            "         3.0       0.00      0.00      0.00        25\n",
            "\n",
            "    accuracy                           0.65       120\n",
            "   macro avg       0.22      0.33      0.26       120\n",
            "weighted avg       0.42      0.65      0.51       120\n",
            "\n"
          ]
        },
        {
          "output_type": "stream",
          "name": "stderr",
          "text": [
            "/usr/local/lib/python3.7/dist-packages/sklearn/metrics/_classification.py:1318: UndefinedMetricWarning: Precision and F-score are ill-defined and being set to 0.0 in labels with no predicted samples. Use `zero_division` parameter to control this behavior.\n",
            "  _warn_prf(average, modifier, msg_start, len(result))\n",
            "/usr/local/lib/python3.7/dist-packages/sklearn/metrics/_classification.py:1318: UndefinedMetricWarning: Precision and F-score are ill-defined and being set to 0.0 in labels with no predicted samples. Use `zero_division` parameter to control this behavior.\n",
            "  _warn_prf(average, modifier, msg_start, len(result))\n",
            "/usr/local/lib/python3.7/dist-packages/sklearn/metrics/_classification.py:1318: UndefinedMetricWarning: Precision and F-score are ill-defined and being set to 0.0 in labels with no predicted samples. Use `zero_division` parameter to control this behavior.\n",
            "  _warn_prf(average, modifier, msg_start, len(result))\n"
          ]
        }
      ]
    },
    {
      "cell_type": "markdown",
      "source": [
        "### **So sánh Accuracy của 4 Model**"
      ],
      "metadata": {
        "id": "tYB4zID0x6Cx"
      }
    },
    {
      "cell_type": "code",
      "source": [
        "import matplotlib.pyplot as plt\n",
        "Acc = [M1,M2]\n",
        "All_Model = ['Model 1','Model 2']\n",
        "x_pos = [i for i, _ in enumerate(All_Model)]\n",
        "plt.xticks(x_pos, All_Model)\n",
        "plt.xlabel(\"Model\")\n",
        "plt.ylabel(\"Accuracy\")\n",
        "plt.bar(x_pos,Acc,width = 0.5)\n",
        "plt.show()"
      ],
      "metadata": {
        "colab": {
          "base_uri": "https://localhost:8080/",
          "height": 278
        },
        "id": "KXaQa5okx_Rt",
        "outputId": "0215db5f-941c-4992-8b78-e7d227c3c62c"
      },
      "execution_count": 19,
      "outputs": [
        {
          "output_type": "display_data",
          "data": {
            "text/plain": [
              "<Figure size 432x288 with 1 Axes>"
            ],
            "image/png": "[encoded data removed]"
          },
          "metadata": {
            "needs_background": "light"
          }
        }
      ]
    }
  ]
}